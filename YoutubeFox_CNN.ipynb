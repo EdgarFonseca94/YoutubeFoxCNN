{
  "nbformat": 4,
  "nbformat_minor": 0,
  "metadata": {
    "colab": {
      "name": "YoutubeFox-CNN.ipynb",
      "provenance": [],
      "collapsed_sections": []
    },
    "kernelspec": {
      "name": "python3",
      "display_name": "Python 3"
    },
    "language_info": {
      "name": "python"
    }
  },
  "cells": [
    {
      "cell_type": "code",
      "execution_count": 1,
      "metadata": {
        "id": "LRaZsOs2nvdS",
        "colab": {
          "base_uri": "https://localhost:8080/"
        },
        "outputId": "7429ec99-ac3e-4735-81a7-5956233c5317"
      },
      "outputs": [
        {
          "output_type": "stream",
          "name": "stdout",
          "text": [
            "[nltk_data] Downloading package punkt to /root/nltk_data...\n",
            "[nltk_data]   Package punkt is already up-to-date!\n",
            "[nltk_data] Downloading package stopwords to /root/nltk_data...\n",
            "[nltk_data]   Package stopwords is already up-to-date!\n"
          ]
        }
      ],
      "source": [
        "# import packages\n",
        "import pandas as pd\n",
        "import seaborn as sns\n",
        "import matplotlib.pyplot as plt\n",
        "import matplotlib\n",
        "import nltk\n",
        "nltk.download('punkt')\n",
        "from nltk.corpus import stopwords\n",
        "nltk.download(\"stopwords\")\n",
        "from nltk.stem.snowball import SnowballStemmer"
      ]
    },
    {
      "cell_type": "markdown",
      "source": [
        "## Table of Contents\n",
        "*   [Why?](#why)\n",
        "*   [Initial View of Data](#initial)\n",
        "*   [How often do these networks post?](#posts)\n",
        "*   [Views](#view)\n",
        "    *   [Distribution of Views](#distribution_views)\n",
        "    *   [Most Viewed Videos](#most_viewed)\n",
        "\n",
        "\n",
        "*  [Likes by Number of Views](#likes)\n",
        "*   [Comments Per Video](#comments)\n",
        "    *   [Number of Videos with Comments Closed](#comments_closed)\n",
        "\n",
        "*   [Analyzing Title Text with NLTK](#Title)\n",
        "    *   [Word Frequency](#word)\n",
        "    *   [Bigram Frequency](#bigram)\n",
        "\n",
        "\n",
        "\n",
        "\n",
        "\n",
        "\n",
        "\n",
        "\n",
        "\n",
        "\n"
      ],
      "metadata": {
        "id": "zkq6-3Syrbtj"
      }
    },
    {
      "cell_type": "markdown",
      "source": [
        "<a name=\"why\"></a>\n",
        "#### I really enjoy politics and understand that topics can be super controversial and media networks fuel this controversy. I wanted to analyze the channels of Fox News and CNN and their video postings to determine what topics their sharing with their viewers. I also want to observe the networks user engagement. Some questions that I would like to answer:\n",
        "1. How often a network post videos?\n",
        "2. What topic are the videos in each video about?\n",
        "3. What is the average number of views each network recieves per video?\n",
        "4. What percentage of viewers like a video?\n",
        "5. What is the average number of views comments each network recieves per video?\n",
        "6. What are the top 10 most viewed/liked videos for each network? What was the video about that gave it so many videos?"
      ],
      "metadata": {
        "id": "RBe2kEa3plLw"
      }
    },
    {
      "cell_type": "markdown",
      "source": [
        "<a name=\"initial\"></a>\n",
        "## Data"
      ],
      "metadata": {
        "id": "I8WqA-nTEpuT"
      }
    },
    {
      "cell_type": "code",
      "source": [
        "# read data\n",
        "df = pd.read_csv('YoutubeVids.csv', index_col=0)"
      ],
      "metadata": {
        "id": "v35cOaNeoQex"
      },
      "execution_count": 2,
      "outputs": []
    },
    {
      "cell_type": "code",
      "source": [
        "# head of dataframe\n",
        "df.head()"
      ],
      "metadata": {
        "colab": {
          "base_uri": "https://localhost:8080/",
          "height": 206
        },
        "id": "3F3AKtcWo_jh",
        "outputId": "6f28f1c8-04fc-48bc-9869-e3680593fbe7"
      },
      "execution_count": 3,
      "outputs": [
        {
          "output_type": "execute_result",
          "data": {
            "text/html": [
              "\n",
              "  <div id=\"df-ac0affbb-34db-42f3-902a-b38ed1a00e50\">\n",
              "    <div class=\"colab-df-container\">\n",
              "      <div>\n",
              "<style scoped>\n",
              "    .dataframe tbody tr th:only-of-type {\n",
              "        vertical-align: middle;\n",
              "    }\n",
              "\n",
              "    .dataframe tbody tr th {\n",
              "        vertical-align: top;\n",
              "    }\n",
              "\n",
              "    .dataframe thead th {\n",
              "        text-align: right;\n",
              "    }\n",
              "</style>\n",
              "<table border=\"1\" class=\"dataframe\">\n",
              "  <thead>\n",
              "    <tr style=\"text-align: right;\">\n",
              "      <th></th>\n",
              "      <th>vid_ID</th>\n",
              "      <th>channel_title</th>\n",
              "      <th>description</th>\n",
              "      <th>time_published</th>\n",
              "      <th>title</th>\n",
              "      <th>view_count</th>\n",
              "      <th>like_count</th>\n",
              "      <th>comment_count</th>\n",
              "    </tr>\n",
              "  </thead>\n",
              "  <tbody>\n",
              "    <tr>\n",
              "      <th>0</th>\n",
              "      <td>enkiA-RmAK0</td>\n",
              "      <td>CNN</td>\n",
              "      <td>Members of the House Select Committee investig...</td>\n",
              "      <td>2021-12-17</td>\n",
              "      <td>Jan 6 investigators believe Nov. 4 text pushin...</td>\n",
              "      <td>73020.0</td>\n",
              "      <td>2007.0</td>\n",
              "      <td>1351.0</td>\n",
              "    </tr>\n",
              "    <tr>\n",
              "      <th>1</th>\n",
              "      <td>33X9-EEbJYU</td>\n",
              "      <td>CNN</td>\n",
              "      <td>Former police officer Kim Potter broke down on...</td>\n",
              "      <td>2021-12-17</td>\n",
              "      <td>Kim Potter breaks down on the stand during tes...</td>\n",
              "      <td>69997.0</td>\n",
              "      <td>676.0</td>\n",
              "      <td>2068.0</td>\n",
              "    </tr>\n",
              "    <tr>\n",
              "      <th>2</th>\n",
              "      <td>IeSo_o1O5J8</td>\n",
              "      <td>CNN</td>\n",
              "      <td>A House oversight committee report reveals tha...</td>\n",
              "      <td>2021-12-17</td>\n",
              "      <td>New damning report about Trump’s response to C...</td>\n",
              "      <td>350706.0</td>\n",
              "      <td>9515.0</td>\n",
              "      <td>6029.0</td>\n",
              "    </tr>\n",
              "    <tr>\n",
              "      <th>3</th>\n",
              "      <td>ESWScbGOB4I</td>\n",
              "      <td>CNN</td>\n",
              "      <td>Dr. Sanjay Gupta follows several families who ...</td>\n",
              "      <td>2021-12-17</td>\n",
              "      <td>‘Miracle’: See impact marijuana had on autisti...</td>\n",
              "      <td>76971.0</td>\n",
              "      <td>2962.0</td>\n",
              "      <td>1230.0</td>\n",
              "    </tr>\n",
              "    <tr>\n",
              "      <th>4</th>\n",
              "      <td>1aP7FE0ws0s</td>\n",
              "      <td>CNN</td>\n",
              "      <td>A judge in Delaware has found that Fox News' c...</td>\n",
              "      <td>2021-12-17</td>\n",
              "      <td>Dominion Voting wins key decision in lawsuit a...</td>\n",
              "      <td>285136.0</td>\n",
              "      <td>8202.0</td>\n",
              "      <td>3634.0</td>\n",
              "    </tr>\n",
              "  </tbody>\n",
              "</table>\n",
              "</div>\n",
              "      <button class=\"colab-df-convert\" onclick=\"convertToInteractive('df-ac0affbb-34db-42f3-902a-b38ed1a00e50')\"\n",
              "              title=\"Convert this dataframe to an interactive table.\"\n",
              "              style=\"display:none;\">\n",
              "        \n",
              "  <svg xmlns=\"http://www.w3.org/2000/svg\" height=\"24px\"viewBox=\"0 0 24 24\"\n",
              "       width=\"24px\">\n",
              "    <path d=\"M0 0h24v24H0V0z\" fill=\"none\"/>\n",
              "    <path d=\"M18.56 5.44l.94 2.06.94-2.06 2.06-.94-2.06-.94-.94-2.06-.94 2.06-2.06.94zm-11 1L8.5 8.5l.94-2.06 2.06-.94-2.06-.94L8.5 2.5l-.94 2.06-2.06.94zm10 10l.94 2.06.94-2.06 2.06-.94-2.06-.94-.94-2.06-.94 2.06-2.06.94z\"/><path d=\"M17.41 7.96l-1.37-1.37c-.4-.4-.92-.59-1.43-.59-.52 0-1.04.2-1.43.59L10.3 9.45l-7.72 7.72c-.78.78-.78 2.05 0 2.83L4 21.41c.39.39.9.59 1.41.59.51 0 1.02-.2 1.41-.59l7.78-7.78 2.81-2.81c.8-.78.8-2.07 0-2.86zM5.41 20L4 18.59l7.72-7.72 1.47 1.35L5.41 20z\"/>\n",
              "  </svg>\n",
              "      </button>\n",
              "      \n",
              "  <style>\n",
              "    .colab-df-container {\n",
              "      display:flex;\n",
              "      flex-wrap:wrap;\n",
              "      gap: 12px;\n",
              "    }\n",
              "\n",
              "    .colab-df-convert {\n",
              "      background-color: #E8F0FE;\n",
              "      border: none;\n",
              "      border-radius: 50%;\n",
              "      cursor: pointer;\n",
              "      display: none;\n",
              "      fill: #1967D2;\n",
              "      height: 32px;\n",
              "      padding: 0 0 0 0;\n",
              "      width: 32px;\n",
              "    }\n",
              "\n",
              "    .colab-df-convert:hover {\n",
              "      background-color: #E2EBFA;\n",
              "      box-shadow: 0px 1px 2px rgba(60, 64, 67, 0.3), 0px 1px 3px 1px rgba(60, 64, 67, 0.15);\n",
              "      fill: #174EA6;\n",
              "    }\n",
              "\n",
              "    [theme=dark] .colab-df-convert {\n",
              "      background-color: #3B4455;\n",
              "      fill: #D2E3FC;\n",
              "    }\n",
              "\n",
              "    [theme=dark] .colab-df-convert:hover {\n",
              "      background-color: #434B5C;\n",
              "      box-shadow: 0px 1px 3px 1px rgba(0, 0, 0, 0.15);\n",
              "      filter: drop-shadow(0px 1px 2px rgba(0, 0, 0, 0.3));\n",
              "      fill: #FFFFFF;\n",
              "    }\n",
              "  </style>\n",
              "\n",
              "      <script>\n",
              "        const buttonEl =\n",
              "          document.querySelector('#df-ac0affbb-34db-42f3-902a-b38ed1a00e50 button.colab-df-convert');\n",
              "        buttonEl.style.display =\n",
              "          google.colab.kernel.accessAllowed ? 'block' : 'none';\n",
              "\n",
              "        async function convertToInteractive(key) {\n",
              "          const element = document.querySelector('#df-ac0affbb-34db-42f3-902a-b38ed1a00e50');\n",
              "          const dataTable =\n",
              "            await google.colab.kernel.invokeFunction('convertToInteractive',\n",
              "                                                     [key], {});\n",
              "          if (!dataTable) return;\n",
              "\n",
              "          const docLinkHtml = 'Like what you see? Visit the ' +\n",
              "            '<a target=\"_blank\" href=https://colab.research.google.com/notebooks/data_table.ipynb>data table notebook</a>'\n",
              "            + ' to learn more about interactive tables.';\n",
              "          element.innerHTML = '';\n",
              "          dataTable['output_type'] = 'display_data';\n",
              "          await google.colab.output.renderOutput(dataTable, element);\n",
              "          const docLink = document.createElement('div');\n",
              "          docLink.innerHTML = docLinkHtml;\n",
              "          element.appendChild(docLink);\n",
              "        }\n",
              "      </script>\n",
              "    </div>\n",
              "  </div>\n",
              "  "
            ],
            "text/plain": [
              "        vid_ID channel_title  ... like_count comment_count\n",
              "0  enkiA-RmAK0           CNN  ...     2007.0        1351.0\n",
              "1  33X9-EEbJYU           CNN  ...      676.0        2068.0\n",
              "2  IeSo_o1O5J8           CNN  ...     9515.0        6029.0\n",
              "3  ESWScbGOB4I           CNN  ...     2962.0        1230.0\n",
              "4  1aP7FE0ws0s           CNN  ...     8202.0        3634.0\n",
              "\n",
              "[5 rows x 8 columns]"
            ]
          },
          "metadata": {},
          "execution_count": 3
        }
      ]
    },
    {
      "cell_type": "code",
      "source": [
        "# What is the range of dates for the video?\n",
        "print('The newest video in our dataset was posted by CNN on ' + str(df[df['channel_title'] == 'CNN']['time_published'].max()))\n",
        "print('The oldest video in our dataset was posted by CNN on ' + str(df[df['channel_title'] == 'CNN']['time_published'].min()))\n",
        "print('The newest video in our dataset was posted by Fox News on ' + str(df[df['channel_title'] == 'Fox News']['time_published'].max()))\n",
        "print('The oldest video in our dataset was posted by Fox News on ' + str(df[df['channel_title'] == 'Fox News']['time_published'].min()))"
      ],
      "metadata": {
        "colab": {
          "base_uri": "https://localhost:8080/"
        },
        "id": "CwzTKuLdpkJR",
        "outputId": "28a7c34f-7de5-49f4-ff9c-0d5cd3965258"
      },
      "execution_count": 4,
      "outputs": [
        {
          "output_type": "stream",
          "name": "stdout",
          "text": [
            "The newest video in our dataset was posted by CNN on 2021-12-17\n",
            "The oldest video in our dataset was posted by CNN on 2021-09-01\n",
            "The newest video in our dataset was posted by Fox News on 2021-12-17\n",
            "The oldest video in our dataset was posted by Fox News on 2021-11-07\n"
          ]
        }
      ]
    },
    {
      "cell_type": "markdown",
      "source": [
        "We can see that there is about 3 months of videos in our dataset for CNN and about a month for Fox News. I collected 1000 of the most recent videos for each network so Fox News may post the most videos."
      ],
      "metadata": {
        "id": "moW4avbeuREz"
      }
    },
    {
      "cell_type": "markdown",
      "source": [
        "<a name=\"posts\"></a>\n",
        "## How often do the Networks post videos?"
      ],
      "metadata": {
        "id": "58EFg5ByB1oV"
      }
    },
    {
      "cell_type": "code",
      "source": [
        "# average postings per day for both networks\n",
        "avg_CNNPost = df[df['channel_title']== 'CNN'].groupby('time_published').size().mean()\n",
        "avg_FoxPost = df[df['channel_title']== 'Fox News'].groupby('time_published').size().mean()\n",
        "\n",
        "print('On Average CNN post '+ str(round(avg_CNNPost, 2)) + ' videos per day.')\n",
        "print('On Average Fox News post '+ str(round(avg_FoxPost, 2)) + ' videos per day.')"
      ],
      "metadata": {
        "colab": {
          "base_uri": "https://localhost:8080/"
        },
        "id": "-zalnrykuHZg",
        "outputId": "ddc26ea2-04d3-418d-bde7-2de63565d482"
      },
      "execution_count": 5,
      "outputs": [
        {
          "output_type": "stream",
          "name": "stdout",
          "text": [
            "On Average CNN post 9.35 videos per day.\n",
            "On Average Fox News post 24.39 videos per day.\n"
          ]
        }
      ]
    },
    {
      "cell_type": "code",
      "source": [
        "# distribution of postings by date for both networks\n",
        "plt.figure(figsize = (20,5))\n",
        "postPerDate = df[df['channel_title']== 'CNN'].groupby('time_published').size().reset_index(name='Count')\n",
        "ax = sns.barplot(x = 'time_published', y = 'Count', data=postPerDate, color=\"salmon\")\n",
        "plt.xticks(rotation = 90)\n",
        "ax.axhline(y=round(avg_CNNPost, 2), color = 'r')\n",
        "ax.set_title('Number of Video Postings: CNN')\n",
        "plt.show"
      ],
      "metadata": {
        "colab": {
          "base_uri": "https://localhost:8080/",
          "height": 416
        },
        "id": "ZvytccKguQqA",
        "outputId": "014c6a08-3d12-4768-e97c-1a6dae22bba7"
      },
      "execution_count": 6,
      "outputs": [
        {
          "output_type": "execute_result",
          "data": {
            "text/plain": [
              "<function matplotlib.pyplot.show>"
            ]
          },
          "metadata": {},
          "execution_count": 6
        },
        {
          "output_type": "display_data",
          "data": {
            "image/png": "[encoded data removed]",
            "text/plain": [
              "<Figure size 1440x360 with 1 Axes>"
            ]
          },
          "metadata": {
            "needs_background": "light"
          }
        }
      ]
    },
    {
      "cell_type": "code",
      "source": [
        "# distribution of postings by date for both networks\n",
        "plt.figure(figsize = (20,5))\n",
        "postPerDate = df[df['channel_title']== 'Fox News'].groupby('time_published').size().reset_index(name='Count')\n",
        "ax = sns.barplot(x = 'time_published', y = 'Count', data=postPerDate, color=\"salmon\")\n",
        "plt.xticks(rotation = 90)\n",
        "line = ax.axhline(y=round(avg_FoxPost, 2), color = 'r')\n",
        "ax.set_title('Number of Video Postings: Fox News')\n",
        "plt.show"
      ],
      "metadata": {
        "colab": {
          "base_uri": "https://localhost:8080/",
          "height": 416
        },
        "id": "0P1aUXD3xr6K",
        "outputId": "186f5b4c-2ddc-4b18-b84c-9af0d11b1f7d"
      },
      "execution_count": 7,
      "outputs": [
        {
          "output_type": "execute_result",
          "data": {
            "text/plain": [
              "<function matplotlib.pyplot.show>"
            ]
          },
          "metadata": {},
          "execution_count": 7
        },
        {
          "output_type": "display_data",
          "data": {
            "image/png": "[encoded data removed]",
            "text/plain": [
              "<Figure size 1440x360 with 1 Axes>"
            ]
          },
          "metadata": {
            "needs_background": "light"
          }
        }
      ]
    },
    {
      "cell_type": "markdown",
      "source": [
        "As we could tell just from the fact that there was a wider range of dates for the CNN videos. Fox News post an average of 24 videos per day as opposed to CNN who post on average 9 videos per day."
      ],
      "metadata": {
        "id": "SsDRDlkLmCfN"
      }
    },
    {
      "cell_type": "markdown",
      "source": [
        "<a name=\"view\"></a>\n",
        "## View Count"
      ],
      "metadata": {
        "id": "KweK9aKSCG_b"
      }
    },
    {
      "cell_type": "markdown",
      "source": [
        "<a name=\"distribution_views\"></a>\n",
        "### Distribution of Views"
      ],
      "metadata": {
        "id": "InWV9lTBcDGW"
      }
    },
    {
      "cell_type": "code",
      "source": [
        "# distribution of likes\n",
        "fig, ax = plt.subplots(1, 2 , figsize=(15,5))\n",
        "CNN_views = df[df['channel_title']== 'CNN']['view_count']\n",
        "sns.histplot(CNN_views, ax = ax[0])\n",
        "ax[0].set_title('CNN Distribution of Views')\n",
        "\n",
        "# distribution of likes\n",
        "plt.figure(figsize=(10,5))\n",
        "Fox_views = df[df['channel_title']== 'Fox News']['view_count']\n",
        "ax[1].set_title('Fox News Distribution of Views')\n",
        "sns.histplot(Fox_views, ax = ax[1])"
      ],
      "metadata": {
        "colab": {
          "base_uri": "https://localhost:8080/",
          "height": 386
        },
        "id": "-JkIdIiF1FQ9",
        "outputId": "4bfc0415-98af-4cfe-9e6e-2e62eb72082a"
      },
      "execution_count": 8,
      "outputs": [
        {
          "output_type": "execute_result",
          "data": {
            "text/plain": [
              "<AxesSubplot:title={'center':'Fox News Distribution of Views'}, xlabel='view_count', ylabel='Count'>"
            ]
          },
          "metadata": {},
          "execution_count": 8
        },
        {
          "output_type": "display_data",
          "data": {
            "image/png": "[encoded data removed]",
            "text/plain": [
              "<Figure size 1080x360 with 2 Axes>"
            ]
          },
          "metadata": {
            "needs_background": "light"
          }
        },
        {
          "output_type": "display_data",
          "data": {
            "text/plain": [
              "<Figure size 720x360 with 0 Axes>"
            ]
          },
          "metadata": {}
        }
      ]
    },
    {
      "cell_type": "code",
      "source": [
        "# box plot. with and without outliers\n",
        "fig, ax = plt.subplots(1,2, figsize = (10,5))\n",
        "sns.boxplot(x = 'channel_title', y = 'view_count', data = df, ax = ax[0])\n",
        "sns.boxplot(x = 'channel_title', y = 'view_count', data = df, ax = ax[1])\n",
        "ax[1].set(ylim= (0,1000000))\n",
        "\n",
        "ax[0].set_title('Views with Outliers')\n",
        "ax[1].set_title('Views without Outliers')"
      ],
      "metadata": {
        "colab": {
          "base_uri": "https://localhost:8080/",
          "height": 368
        },
        "id": "LTufdVuWMJGA",
        "outputId": "70f724d4-0706-4cff-b735-2074af4195cc"
      },
      "execution_count": 9,
      "outputs": [
        {
          "output_type": "execute_result",
          "data": {
            "text/plain": [
              "Text(0.5, 1.0, 'Views without Outliers')"
            ]
          },
          "metadata": {},
          "execution_count": 9
        },
        {
          "output_type": "display_data",
          "data": {
            "image/png": "[encoded data removed]",
            "text/plain": [
              "<Figure size 720x360 with 2 Axes>"
            ]
          },
          "metadata": {
            "needs_background": "light"
          }
        }
      ]
    },
    {
      "cell_type": "markdown",
      "source": [
        "We can see that Fox News has many videos that have a huge number of views. One video even had close to 5 million views. When we set a limit we can see that on average Fox News has a higher number of views per video. Let's see how that affects the number of likes."
      ],
      "metadata": {
        "id": "-CMoF3WffFVe"
      }
    },
    {
      "cell_type": "markdown",
      "source": [
        "<a name=\"most_viewed\"></a>\n",
        "### Most viewed videos"
      ],
      "metadata": {
        "id": "qedR3Z-pb3dG"
      }
    },
    {
      "cell_type": "code",
      "source": [
        "# What are the top 10 most viewed videos from each network\n",
        "top_10_index = df[df['channel_title']== 'CNN']['view_count'].sort_values(ascending=False)[:10].index\n",
        "df[df['channel_title'] == 'CNN'].iloc[top_10_index]"
      ],
      "metadata": {
        "colab": {
          "base_uri": "https://localhost:8080/",
          "height": 363
        },
        "id": "k5BnNIs2b1aF",
        "outputId": "ea4d6e43-6ef2-42c2-9a5e-ca0715ff3029"
      },
      "execution_count": 10,
      "outputs": [
        {
          "output_type": "execute_result",
          "data": {
            "text/html": [
              "\n",
              "  <div id=\"df-10c321a1-ce1d-4f75-a974-8929559c0eab\">\n",
              "    <div class=\"colab-df-container\">\n",
              "      <div>\n",
              "<style scoped>\n",
              "    .dataframe tbody tr th:only-of-type {\n",
              "        vertical-align: middle;\n",
              "    }\n",
              "\n",
              "    .dataframe tbody tr th {\n",
              "        vertical-align: top;\n",
              "    }\n",
              "\n",
              "    .dataframe thead th {\n",
              "        text-align: right;\n",
              "    }\n",
              "</style>\n",
              "<table border=\"1\" class=\"dataframe\">\n",
              "  <thead>\n",
              "    <tr style=\"text-align: right;\">\n",
              "      <th></th>\n",
              "      <th>vid_ID</th>\n",
              "      <th>channel_title</th>\n",
              "      <th>description</th>\n",
              "      <th>time_published</th>\n",
              "      <th>title</th>\n",
              "      <th>view_count</th>\n",
              "      <th>like_count</th>\n",
              "      <th>comment_count</th>\n",
              "    </tr>\n",
              "  </thead>\n",
              "  <tbody>\n",
              "    <tr>\n",
              "      <th>408</th>\n",
              "      <td>qh1nDpR4TlI</td>\n",
              "      <td>CNN</td>\n",
              "      <td>At least eight people died and many others wer...</td>\n",
              "      <td>2021-11-06</td>\n",
              "      <td>See moment Travis Scott stops performance amid...</td>\n",
              "      <td>2719909.0</td>\n",
              "      <td>27338.0</td>\n",
              "      <td>12981.0</td>\n",
              "    </tr>\n",
              "    <tr>\n",
              "      <th>155</th>\n",
              "      <td>rwkvJpSFiTo</td>\n",
              "      <td>CNN</td>\n",
              "      <td>CNN's Adrienne Broaddus speaks with Oxford Hig...</td>\n",
              "      <td>2021-12-02</td>\n",
              "      <td>Student breaks down after learning classmate d...</td>\n",
              "      <td>2628612.0</td>\n",
              "      <td>67001.0</td>\n",
              "      <td>11362.0</td>\n",
              "    </tr>\n",
              "    <tr>\n",
              "      <th>125</th>\n",
              "      <td>4gIuyFixgaU</td>\n",
              "      <td>CNN</td>\n",
              "      <td>Prominent Christian televangelist and anti-vac...</td>\n",
              "      <td>2021-12-05</td>\n",
              "      <td>Preacher who spread vaccine lies dies after be...</td>\n",
              "      <td>2099997.0</td>\n",
              "      <td>20483.0</td>\n",
              "      <td>30652.0</td>\n",
              "    </tr>\n",
              "    <tr>\n",
              "      <th>936</th>\n",
              "      <td>mawvx3Daad8</td>\n",
              "      <td>CNN</td>\n",
              "      <td>Former President Trump and his inner circle we...</td>\n",
              "      <td>2021-09-13</td>\n",
              "      <td>Hear the calls Trump made as he tried to steal...</td>\n",
              "      <td>1823158.0</td>\n",
              "      <td>34202.0</td>\n",
              "      <td>21786.0</td>\n",
              "    </tr>\n",
              "    <tr>\n",
              "      <th>771</th>\n",
              "      <td>Rp0melxXhho</td>\n",
              "      <td>CNN</td>\n",
              "      <td>\"The Daily Show\" contributor Jordan Klepper hi...</td>\n",
              "      <td>2021-10-03</td>\n",
              "      <td>'How do surgeons do it?': Comedian Jordan Klep...</td>\n",
              "      <td>1795735.0</td>\n",
              "      <td>36795.0</td>\n",
              "      <td>9745.0</td>\n",
              "    </tr>\n",
              "    <tr>\n",
              "      <th>557</th>\n",
              "      <td>eML-Ty9IW7A</td>\n",
              "      <td>CNN</td>\n",
              "      <td>\"The Daily Show\" correspondent Jordan Klepper ...</td>\n",
              "      <td>2021-10-23</td>\n",
              "      <td>'Daily Show's' Klepper reveals what happened a...</td>\n",
              "      <td>1786090.0</td>\n",
              "      <td>35245.0</td>\n",
              "      <td>13006.0</td>\n",
              "    </tr>\n",
              "    <tr>\n",
              "      <th>421</th>\n",
              "      <td>ewKg8DkwcLc</td>\n",
              "      <td>CNN</td>\n",
              "      <td>CNN obtained exclusive video that shows Trump ...</td>\n",
              "      <td>2021-11-05</td>\n",
              "      <td>Rudy Giuliani challenged under oath on his ele...</td>\n",
              "      <td>1764491.0</td>\n",
              "      <td>26769.0</td>\n",
              "      <td>10545.0</td>\n",
              "    </tr>\n",
              "    <tr>\n",
              "      <th>243</th>\n",
              "      <td>s_cKKrwWmdM</td>\n",
              "      <td>CNN</td>\n",
              "      <td>Kelly Davis, who witnessed the parade tragedy ...</td>\n",
              "      <td>2021-11-23</td>\n",
              "      <td>'There were people running everywhere screamin...</td>\n",
              "      <td>1756254.0</td>\n",
              "      <td>5039.0</td>\n",
              "      <td>7728.0</td>\n",
              "    </tr>\n",
              "    <tr>\n",
              "      <th>950</th>\n",
              "      <td>hQO9upB7kx8</td>\n",
              "      <td>CNN</td>\n",
              "      <td>Mary Quintanilla, a Facebook user with over 3,...</td>\n",
              "      <td>2021-09-10</td>\n",
              "      <td>CNN reporter shows Trump supporter her debunke...</td>\n",
              "      <td>1752943.0</td>\n",
              "      <td>26325.0</td>\n",
              "      <td>16921.0</td>\n",
              "    </tr>\n",
              "    <tr>\n",
              "      <th>490</th>\n",
              "      <td>feJz1bxd-fw</td>\n",
              "      <td>CNN</td>\n",
              "      <td>Specifics about former President Donald Trump'...</td>\n",
              "      <td>2021-10-30</td>\n",
              "      <td>Court filings reveal what Trump is trying to k...</td>\n",
              "      <td>1751634.0</td>\n",
              "      <td>26332.0</td>\n",
              "      <td>23303.0</td>\n",
              "    </tr>\n",
              "  </tbody>\n",
              "</table>\n",
              "</div>\n",
              "      <button class=\"colab-df-convert\" onclick=\"convertToInteractive('df-10c321a1-ce1d-4f75-a974-8929559c0eab')\"\n",
              "              title=\"Convert this dataframe to an interactive table.\"\n",
              "              style=\"display:none;\">\n",
              "        \n",
              "  <svg xmlns=\"http://www.w3.org/2000/svg\" height=\"24px\"viewBox=\"0 0 24 24\"\n",
              "       width=\"24px\">\n",
              "    <path d=\"M0 0h24v24H0V0z\" fill=\"none\"/>\n",
              "    <path d=\"M18.56 5.44l.94 2.06.94-2.06 2.06-.94-2.06-.94-.94-2.06-.94 2.06-2.06.94zm-11 1L8.5 8.5l.94-2.06 2.06-.94-2.06-.94L8.5 2.5l-.94 2.06-2.06.94zm10 10l.94 2.06.94-2.06 2.06-.94-2.06-.94-.94-2.06-.94 2.06-2.06.94z\"/><path d=\"M17.41 7.96l-1.37-1.37c-.4-.4-.92-.59-1.43-.59-.52 0-1.04.2-1.43.59L10.3 9.45l-7.72 7.72c-.78.78-.78 2.05 0 2.83L4 21.41c.39.39.9.59 1.41.59.51 0 1.02-.2 1.41-.59l7.78-7.78 2.81-2.81c.8-.78.8-2.07 0-2.86zM5.41 20L4 18.59l7.72-7.72 1.47 1.35L5.41 20z\"/>\n",
              "  </svg>\n",
              "      </button>\n",
              "      \n",
              "  <style>\n",
              "    .colab-df-container {\n",
              "      display:flex;\n",
              "      flex-wrap:wrap;\n",
              "      gap: 12px;\n",
              "    }\n",
              "\n",
              "    .colab-df-convert {\n",
              "      background-color: #E8F0FE;\n",
              "      border: none;\n",
              "      border-radius: 50%;\n",
              "      cursor: pointer;\n",
              "      display: none;\n",
              "      fill: #1967D2;\n",
              "      height: 32px;\n",
              "      padding: 0 0 0 0;\n",
              "      width: 32px;\n",
              "    }\n",
              "\n",
              "    .colab-df-convert:hover {\n",
              "      background-color: #E2EBFA;\n",
              "      box-shadow: 0px 1px 2px rgba(60, 64, 67, 0.3), 0px 1px 3px 1px rgba(60, 64, 67, 0.15);\n",
              "      fill: #174EA6;\n",
              "    }\n",
              "\n",
              "    [theme=dark] .colab-df-convert {\n",
              "      background-color: #3B4455;\n",
              "      fill: #D2E3FC;\n",
              "    }\n",
              "\n",
              "    [theme=dark] .colab-df-convert:hover {\n",
              "      background-color: #434B5C;\n",
              "      box-shadow: 0px 1px 3px 1px rgba(0, 0, 0, 0.15);\n",
              "      filter: drop-shadow(0px 1px 2px rgba(0, 0, 0, 0.3));\n",
              "      fill: #FFFFFF;\n",
              "    }\n",
              "  </style>\n",
              "\n",
              "      <script>\n",
              "        const buttonEl =\n",
              "          document.querySelector('#df-10c321a1-ce1d-4f75-a974-8929559c0eab button.colab-df-convert');\n",
              "        buttonEl.style.display =\n",
              "          google.colab.kernel.accessAllowed ? 'block' : 'none';\n",
              "\n",
              "        async function convertToInteractive(key) {\n",
              "          const element = document.querySelector('#df-10c321a1-ce1d-4f75-a974-8929559c0eab');\n",
              "          const dataTable =\n",
              "            await google.colab.kernel.invokeFunction('convertToInteractive',\n",
              "                                                     [key], {});\n",
              "          if (!dataTable) return;\n",
              "\n",
              "          const docLinkHtml = 'Like what you see? Visit the ' +\n",
              "            '<a target=\"_blank\" href=https://colab.research.google.com/notebooks/data_table.ipynb>data table notebook</a>'\n",
              "            + ' to learn more about interactive tables.';\n",
              "          element.innerHTML = '';\n",
              "          dataTable['output_type'] = 'display_data';\n",
              "          await google.colab.output.renderOutput(dataTable, element);\n",
              "          const docLink = document.createElement('div');\n",
              "          docLink.innerHTML = docLinkHtml;\n",
              "          element.appendChild(docLink);\n",
              "        }\n",
              "      </script>\n",
              "    </div>\n",
              "  </div>\n",
              "  "
            ],
            "text/plain": [
              "          vid_ID channel_title  ... like_count comment_count\n",
              "408  qh1nDpR4TlI           CNN  ...    27338.0       12981.0\n",
              "155  rwkvJpSFiTo           CNN  ...    67001.0       11362.0\n",
              "125  4gIuyFixgaU           CNN  ...    20483.0       30652.0\n",
              "936  mawvx3Daad8           CNN  ...    34202.0       21786.0\n",
              "771  Rp0melxXhho           CNN  ...    36795.0        9745.0\n",
              "557  eML-Ty9IW7A           CNN  ...    35245.0       13006.0\n",
              "421  ewKg8DkwcLc           CNN  ...    26769.0       10545.0\n",
              "243  s_cKKrwWmdM           CNN  ...     5039.0        7728.0\n",
              "950  hQO9upB7kx8           CNN  ...    26325.0       16921.0\n",
              "490  feJz1bxd-fw           CNN  ...    26332.0       23303.0\n",
              "\n",
              "[10 rows x 8 columns]"
            ]
          },
          "metadata": {},
          "execution_count": 10
        }
      ]
    },
    {
      "cell_type": "code",
      "source": [
        "# to better see what videos were about by title\n",
        "df[df['channel_title']== 'CNN'].iloc[top_10_index]['title'].values"
      ],
      "metadata": {
        "colab": {
          "base_uri": "https://localhost:8080/"
        },
        "id": "sn4gasK8duYG",
        "outputId": "2d8e962a-fe22-4f94-e486-e80f8b54a405"
      },
      "execution_count": 11,
      "outputs": [
        {
          "output_type": "execute_result",
          "data": {
            "text/plain": [
              "array(['See moment Travis Scott stops performance amid deadly incident',\n",
              "       'Student breaks down after learning classmate died in shooting',\n",
              "       'Preacher who spread vaccine lies dies after being hospitalized with Covid-19',\n",
              "       'Hear the calls Trump made as he tried to steal the election',\n",
              "       \"'How do surgeons do it?': Comedian Jordan Klepper takes on anti-mask parents\",\n",
              "       \"'Daily Show's' Klepper reveals what happened at Trump rally\",\n",
              "       'Rudy Giuliani challenged under oath on his election lies',\n",
              "       \"'There were people running everywhere screaming': Witness describes Wisconsin parade tragedy\",\n",
              "       'CNN reporter shows Trump supporter her debunked Facebook posts. See her reaction',\n",
              "       'Court filings reveal what Trump is trying to keep secret from Congress'],\n",
              "      dtype=object)"
            ]
          },
          "metadata": {},
          "execution_count": 11
        }
      ]
    },
    {
      "cell_type": "markdown",
      "source": [
        "CNNs top viewed videos seem to have a diversity in topics such as the Travis Scott concert incident. Theres some talk about Trump. "
      ],
      "metadata": {
        "id": "lsoNSJF0fDRK"
      }
    },
    {
      "cell_type": "code",
      "source": [
        "# fox top 10 \n",
        "top_10_index = df[df['channel_title']== 'Fox News']['view_count'].sort_values(ascending=False)[:10].index\n",
        "df.iloc[top_10_index]"
      ],
      "metadata": {
        "colab": {
          "base_uri": "https://localhost:8080/",
          "height": 363
        },
        "id": "ghupehIXd21F",
        "outputId": "77b2c07d-2415-49a8-be87-cf2a6fe64a62"
      },
      "execution_count": 12,
      "outputs": [
        {
          "output_type": "execute_result",
          "data": {
            "text/html": [
              "\n",
              "  <div id=\"df-4b4d3009-7e5a-4186-9606-e50ac89a6a84\">\n",
              "    <div class=\"colab-df-container\">\n",
              "      <div>\n",
              "<style scoped>\n",
              "    .dataframe tbody tr th:only-of-type {\n",
              "        vertical-align: middle;\n",
              "    }\n",
              "\n",
              "    .dataframe tbody tr th {\n",
              "        vertical-align: top;\n",
              "    }\n",
              "\n",
              "    .dataframe thead th {\n",
              "        text-align: right;\n",
              "    }\n",
              "</style>\n",
              "<table border=\"1\" class=\"dataframe\">\n",
              "  <thead>\n",
              "    <tr style=\"text-align: right;\">\n",
              "      <th></th>\n",
              "      <th>vid_ID</th>\n",
              "      <th>channel_title</th>\n",
              "      <th>description</th>\n",
              "      <th>time_published</th>\n",
              "      <th>title</th>\n",
              "      <th>view_count</th>\n",
              "      <th>like_count</th>\n",
              "      <th>comment_count</th>\n",
              "    </tr>\n",
              "  </thead>\n",
              "  <tbody>\n",
              "    <tr>\n",
              "      <th>1611</th>\n",
              "      <td>Xm7_wSuahXY</td>\n",
              "      <td>Fox News</td>\n",
              "      <td>Kyle Rittenhouse calls on the president to wat...</td>\n",
              "      <td>2021-11-23</td>\n",
              "      <td>Kyle Rittenhouse has a message for Biden</td>\n",
              "      <td>4816489.0</td>\n",
              "      <td>177863.0</td>\n",
              "      <td>26886.0</td>\n",
              "    </tr>\n",
              "    <tr>\n",
              "      <th>1612</th>\n",
              "      <td>do7sbWaZstQ</td>\n",
              "      <td>Fox News</td>\n",
              "      <td>'Tucker Carlson Tonight' host speaks to Kyle R...</td>\n",
              "      <td>2021-11-23</td>\n",
              "      <td>Kyle Rittenhouse speaks to Tucker Carlson in f...</td>\n",
              "      <td>4335759.0</td>\n",
              "      <td>204197.0</td>\n",
              "      <td>33208.0</td>\n",
              "    </tr>\n",
              "    <tr>\n",
              "      <th>1397</th>\n",
              "      <td>QlBTKmVVOOQ</td>\n",
              "      <td>Fox News</td>\n",
              "      <td>Former President Donald Trump slams President ...</td>\n",
              "      <td>2021-12-02</td>\n",
              "      <td>Trump torches Biden in 'Fox &amp; Friends' intervi...</td>\n",
              "      <td>4319078.0</td>\n",
              "      <td>113439.0</td>\n",
              "      <td>32164.0</td>\n",
              "    </tr>\n",
              "    <tr>\n",
              "      <th>1379</th>\n",
              "      <td>AZC7Y_fPiWw</td>\n",
              "      <td>Fox News</td>\n",
              "      <td>Tucker Carlson reviewed the evidence of actor ...</td>\n",
              "      <td>2021-12-03</td>\n",
              "      <td>Tucker: How did anyone fall for this hoax?</td>\n",
              "      <td>4108201.0</td>\n",
              "      <td>125278.0</td>\n",
              "      <td>20464.0</td>\n",
              "    </tr>\n",
              "    <tr>\n",
              "      <th>1958</th>\n",
              "      <td>kujtF7tZ1Zk</td>\n",
              "      <td>Fox News</td>\n",
              "      <td>'Gutfeld!' panel reacts to debunked Steele dos...</td>\n",
              "      <td>2021-11-09</td>\n",
              "      <td>Gutfeld: This is why the hugest story on Earth...</td>\n",
              "      <td>3684735.0</td>\n",
              "      <td>96283.0</td>\n",
              "      <td>9335.0</td>\n",
              "    </tr>\n",
              "    <tr>\n",
              "      <th>1649</th>\n",
              "      <td>XkIqEIecCWg</td>\n",
              "      <td>Fox News</td>\n",
              "      <td>'Big Saturday Show' panel weighs in on demonst...</td>\n",
              "      <td>2021-11-21</td>\n",
              "      <td>Protests erupt in American cities over Kyle Ri...</td>\n",
              "      <td>3660744.0</td>\n",
              "      <td>92658.0</td>\n",
              "      <td>0.0</td>\n",
              "    </tr>\n",
              "    <tr>\n",
              "      <th>1670</th>\n",
              "      <td>YMdIAK59GYA</td>\n",
              "      <td>Fox News</td>\n",
              "      <td>'Tucker Carlson Tonight' host excoriates Democ...</td>\n",
              "      <td>2021-11-20</td>\n",
              "      <td>Tucker: This drives Democrats insane about Rit...</td>\n",
              "      <td>3191231.0</td>\n",
              "      <td>144027.0</td>\n",
              "      <td>24668.0</td>\n",
              "    </tr>\n",
              "    <tr>\n",
              "      <th>1902</th>\n",
              "      <td>ykxlfcErSYs</td>\n",
              "      <td>Fox News</td>\n",
              "      <td>‘Tucker Carlson Tonight’ host reacts to the ‘i...</td>\n",
              "      <td>2021-11-11</td>\n",
              "      <td>Tucker: This is terrifying and unnerving</td>\n",
              "      <td>3122999.0</td>\n",
              "      <td>127678.0</td>\n",
              "      <td>16819.0</td>\n",
              "    </tr>\n",
              "    <tr>\n",
              "      <th>1669</th>\n",
              "      <td>ULKliErI2IA</td>\n",
              "      <td>Fox News</td>\n",
              "      <td>Nick Sandmann joins ‘Hannity’ for an exclusive...</td>\n",
              "      <td>2021-11-20</td>\n",
              "      <td>Nick Sandmann speaks out on Rittenhouse verdic...</td>\n",
              "      <td>2849175.0</td>\n",
              "      <td>97243.0</td>\n",
              "      <td>13895.0</td>\n",
              "    </tr>\n",
              "    <tr>\n",
              "      <th>1904</th>\n",
              "      <td>kYDxpVKQH_w</td>\n",
              "      <td>Fox News</td>\n",
              "      <td>'The Five' panel discuss day seven of the Ritt...</td>\n",
              "      <td>2021-11-11</td>\n",
              "      <td>'The Five' react to Kyle Rittenhouse testimony</td>\n",
              "      <td>2836447.0</td>\n",
              "      <td>55382.0</td>\n",
              "      <td>16030.0</td>\n",
              "    </tr>\n",
              "  </tbody>\n",
              "</table>\n",
              "</div>\n",
              "      <button class=\"colab-df-convert\" onclick=\"convertToInteractive('df-4b4d3009-7e5a-4186-9606-e50ac89a6a84')\"\n",
              "              title=\"Convert this dataframe to an interactive table.\"\n",
              "              style=\"display:none;\">\n",
              "        \n",
              "  <svg xmlns=\"http://www.w3.org/2000/svg\" height=\"24px\"viewBox=\"0 0 24 24\"\n",
              "       width=\"24px\">\n",
              "    <path d=\"M0 0h24v24H0V0z\" fill=\"none\"/>\n",
              "    <path d=\"M18.56 5.44l.94 2.06.94-2.06 2.06-.94-2.06-.94-.94-2.06-.94 2.06-2.06.94zm-11 1L8.5 8.5l.94-2.06 2.06-.94-2.06-.94L8.5 2.5l-.94 2.06-2.06.94zm10 10l.94 2.06.94-2.06 2.06-.94-2.06-.94-.94-2.06-.94 2.06-2.06.94z\"/><path d=\"M17.41 7.96l-1.37-1.37c-.4-.4-.92-.59-1.43-.59-.52 0-1.04.2-1.43.59L10.3 9.45l-7.72 7.72c-.78.78-.78 2.05 0 2.83L4 21.41c.39.39.9.59 1.41.59.51 0 1.02-.2 1.41-.59l7.78-7.78 2.81-2.81c.8-.78.8-2.07 0-2.86zM5.41 20L4 18.59l7.72-7.72 1.47 1.35L5.41 20z\"/>\n",
              "  </svg>\n",
              "      </button>\n",
              "      \n",
              "  <style>\n",
              "    .colab-df-container {\n",
              "      display:flex;\n",
              "      flex-wrap:wrap;\n",
              "      gap: 12px;\n",
              "    }\n",
              "\n",
              "    .colab-df-convert {\n",
              "      background-color: #E8F0FE;\n",
              "      border: none;\n",
              "      border-radius: 50%;\n",
              "      cursor: pointer;\n",
              "      display: none;\n",
              "      fill: #1967D2;\n",
              "      height: 32px;\n",
              "      padding: 0 0 0 0;\n",
              "      width: 32px;\n",
              "    }\n",
              "\n",
              "    .colab-df-convert:hover {\n",
              "      background-color: #E2EBFA;\n",
              "      box-shadow: 0px 1px 2px rgba(60, 64, 67, 0.3), 0px 1px 3px 1px rgba(60, 64, 67, 0.15);\n",
              "      fill: #174EA6;\n",
              "    }\n",
              "\n",
              "    [theme=dark] .colab-df-convert {\n",
              "      background-color: #3B4455;\n",
              "      fill: #D2E3FC;\n",
              "    }\n",
              "\n",
              "    [theme=dark] .colab-df-convert:hover {\n",
              "      background-color: #434B5C;\n",
              "      box-shadow: 0px 1px 3px 1px rgba(0, 0, 0, 0.15);\n",
              "      filter: drop-shadow(0px 1px 2px rgba(0, 0, 0, 0.3));\n",
              "      fill: #FFFFFF;\n",
              "    }\n",
              "  </style>\n",
              "\n",
              "      <script>\n",
              "        const buttonEl =\n",
              "          document.querySelector('#df-4b4d3009-7e5a-4186-9606-e50ac89a6a84 button.colab-df-convert');\n",
              "        buttonEl.style.display =\n",
              "          google.colab.kernel.accessAllowed ? 'block' : 'none';\n",
              "\n",
              "        async function convertToInteractive(key) {\n",
              "          const element = document.querySelector('#df-4b4d3009-7e5a-4186-9606-e50ac89a6a84');\n",
              "          const dataTable =\n",
              "            await google.colab.kernel.invokeFunction('convertToInteractive',\n",
              "                                                     [key], {});\n",
              "          if (!dataTable) return;\n",
              "\n",
              "          const docLinkHtml = 'Like what you see? Visit the ' +\n",
              "            '<a target=\"_blank\" href=https://colab.research.google.com/notebooks/data_table.ipynb>data table notebook</a>'\n",
              "            + ' to learn more about interactive tables.';\n",
              "          element.innerHTML = '';\n",
              "          dataTable['output_type'] = 'display_data';\n",
              "          await google.colab.output.renderOutput(dataTable, element);\n",
              "          const docLink = document.createElement('div');\n",
              "          docLink.innerHTML = docLinkHtml;\n",
              "          element.appendChild(docLink);\n",
              "        }\n",
              "      </script>\n",
              "    </div>\n",
              "  </div>\n",
              "  "
            ],
            "text/plain": [
              "           vid_ID channel_title  ... like_count comment_count\n",
              "1611  Xm7_wSuahXY      Fox News  ...   177863.0       26886.0\n",
              "1612  do7sbWaZstQ      Fox News  ...   204197.0       33208.0\n",
              "1397  QlBTKmVVOOQ      Fox News  ...   113439.0       32164.0\n",
              "1379  AZC7Y_fPiWw      Fox News  ...   125278.0       20464.0\n",
              "1958  kujtF7tZ1Zk      Fox News  ...    96283.0        9335.0\n",
              "1649  XkIqEIecCWg      Fox News  ...    92658.0           0.0\n",
              "1670  YMdIAK59GYA      Fox News  ...   144027.0       24668.0\n",
              "1902  ykxlfcErSYs      Fox News  ...   127678.0       16819.0\n",
              "1669  ULKliErI2IA      Fox News  ...    97243.0       13895.0\n",
              "1904  kYDxpVKQH_w      Fox News  ...    55382.0       16030.0\n",
              "\n",
              "[10 rows x 8 columns]"
            ]
          },
          "metadata": {},
          "execution_count": 12
        }
      ]
    },
    {
      "cell_type": "code",
      "source": [
        "# fox news titles top 10\n",
        "df.iloc[top_10_index]['title'].values"
      ],
      "metadata": {
        "colab": {
          "base_uri": "https://localhost:8080/"
        },
        "id": "pDpi9vIbeecP",
        "outputId": "454f6546-2327-4fd8-d54e-db676af26945"
      },
      "execution_count": 13,
      "outputs": [
        {
          "output_type": "execute_result",
          "data": {
            "text/plain": [
              "array(['Kyle Rittenhouse has a message for Biden',\n",
              "       'Kyle Rittenhouse speaks to Tucker Carlson in first TV interview',\n",
              "       \"Trump torches Biden in 'Fox & Friends' interview, says admin is destroying America\",\n",
              "       'Tucker: How did anyone fall for this hoax?',\n",
              "       'Gutfeld: This is why the hugest story on Earth must vanish',\n",
              "       'Protests erupt in American cities over Kyle Rittenhouse acquittal',\n",
              "       'Tucker: This drives Democrats insane about Rittenhouse verdict',\n",
              "       'Tucker: This is terrifying and unnerving',\n",
              "       'Nick Sandmann speaks out on Rittenhouse verdict in Hannity exclusive',\n",
              "       \"'The Five' react to Kyle Rittenhouse testimony\"], dtype=object)"
            ]
          },
          "metadata": {},
          "execution_count": 13
        }
      ]
    },
    {
      "cell_type": "markdown",
      "source": [
        "We can see that there is a good amount of talk about the Kyle Rittenhouse trial that had just happened.\n",
        "\n"
      ],
      "metadata": {
        "id": "jv24Kfa5euci"
      }
    },
    {
      "cell_type": "markdown",
      "source": [
        "<a name=\"likes\"></a>\n",
        "## Likes Per Video"
      ],
      "metadata": {
        "id": "Br2nTgRFbv6x"
      }
    },
    {
      "cell_type": "code",
      "source": [
        "# Likes per video\n",
        "df['likes_per_video'] = df['like_count'] / df['view_count']"
      ],
      "metadata": {
        "id": "QsFQI--0e_E8"
      },
      "execution_count": 14,
      "outputs": []
    },
    {
      "cell_type": "code",
      "source": [
        "fig, ax = plt.subplots(1, 2 , figsize=(15,5))\n",
        "CNN_views = df[df['channel_title']== 'CNN']['likes_per_video']\n",
        "sns.histplot(CNN_views, ax = ax[0])\n",
        "ax[0].set_title('CNN Distribution of Percentage of Likes Per Viewership')\n",
        "\n",
        "plt.figure(figsize=(10,5))\n",
        "Fox_views = df[df['channel_title']== 'Fox News']['likes_per_video']\n",
        "ax[1].set_title('Fox News Distribution of Percentage of Likes Per Viewership')\n",
        "sns.histplot(Fox_views, ax = ax[1])"
      ],
      "metadata": {
        "colab": {
          "base_uri": "https://localhost:8080/",
          "height": 386
        },
        "id": "mC6MGN7mgZ_t",
        "outputId": "09cfe0bb-e742-4d59-ab06-fb09c977a3a6"
      },
      "execution_count": 15,
      "outputs": [
        {
          "output_type": "execute_result",
          "data": {
            "text/plain": [
              "<AxesSubplot:title={'center':'Fox News Distribution of Percentage of Likes Per Viewership'}, xlabel='likes_per_video', ylabel='Count'>"
            ]
          },
          "metadata": {},
          "execution_count": 15
        },
        {
          "output_type": "display_data",
          "data": {
            "image/png": "[encoded data removed]",
            "text/plain": [
              "<Figure size 1080x360 with 2 Axes>"
            ]
          },
          "metadata": {
            "needs_background": "light"
          }
        },
        {
          "output_type": "display_data",
          "data": {
            "text/plain": [
              "<Figure size 720x360 with 0 Axes>"
            ]
          },
          "metadata": {}
        }
      ]
    },
    {
      "cell_type": "markdown",
      "source": [
        "We can see that CNN has a normal distribution of Likes Per Viewership with this variable being in the low 1% to 5%. Fox News on the other hand seems to have an outlier that has close to 50%  likes per number of viewers ship. We can actually subset this video and open it in our browser to see if that's correct.\n"
      ],
      "metadata": {
        "id": "8dS5fhEXj5Qb"
      }
    },
    {
      "cell_type": "code",
      "source": [
        "# greater than 0.5\n",
        "fox_df = df[df['channel_title']== 'Fox News']\n",
        "index = fox_df['likes_per_video'] > 0.1\n",
        "fox_df[index]"
      ],
      "metadata": {
        "colab": {
          "base_uri": "https://localhost:8080/",
          "height": 81
        },
        "id": "ZFTB4QOqj4KD",
        "outputId": "b95f1205-ab0a-4b36-c4ae-146aada3baa3"
      },
      "execution_count": 16,
      "outputs": [
        {
          "output_type": "execute_result",
          "data": {
            "text/html": [
              "\n",
              "  <div id=\"df-85e0b21b-8f37-43ab-b867-da3d78b6e7ec\">\n",
              "    <div class=\"colab-df-container\">\n",
              "      <div>\n",
              "<style scoped>\n",
              "    .dataframe tbody tr th:only-of-type {\n",
              "        vertical-align: middle;\n",
              "    }\n",
              "\n",
              "    .dataframe tbody tr th {\n",
              "        vertical-align: top;\n",
              "    }\n",
              "\n",
              "    .dataframe thead th {\n",
              "        text-align: right;\n",
              "    }\n",
              "</style>\n",
              "<table border=\"1\" class=\"dataframe\">\n",
              "  <thead>\n",
              "    <tr style=\"text-align: right;\">\n",
              "      <th></th>\n",
              "      <th>vid_ID</th>\n",
              "      <th>channel_title</th>\n",
              "      <th>description</th>\n",
              "      <th>time_published</th>\n",
              "      <th>title</th>\n",
              "      <th>view_count</th>\n",
              "      <th>like_count</th>\n",
              "      <th>comment_count</th>\n",
              "      <th>likes_per_video</th>\n",
              "    </tr>\n",
              "  </thead>\n",
              "  <tbody>\n",
              "    <tr>\n",
              "      <th>1091</th>\n",
              "      <td>03BzO2xNeVM</td>\n",
              "      <td>Fox News</td>\n",
              "      <td>St. Charles County, Missouri police Captain Ch...</td>\n",
              "      <td>2021-12-14</td>\n",
              "      <td>Looters take advantage of storm damage after d...</td>\n",
              "      <td>4.0</td>\n",
              "      <td>2.0</td>\n",
              "      <td>0.0</td>\n",
              "      <td>0.5</td>\n",
              "    </tr>\n",
              "  </tbody>\n",
              "</table>\n",
              "</div>\n",
              "      <button class=\"colab-df-convert\" onclick=\"convertToInteractive('df-85e0b21b-8f37-43ab-b867-da3d78b6e7ec')\"\n",
              "              title=\"Convert this dataframe to an interactive table.\"\n",
              "              style=\"display:none;\">\n",
              "        \n",
              "  <svg xmlns=\"http://www.w3.org/2000/svg\" height=\"24px\"viewBox=\"0 0 24 24\"\n",
              "       width=\"24px\">\n",
              "    <path d=\"M0 0h24v24H0V0z\" fill=\"none\"/>\n",
              "    <path d=\"M18.56 5.44l.94 2.06.94-2.06 2.06-.94-2.06-.94-.94-2.06-.94 2.06-2.06.94zm-11 1L8.5 8.5l.94-2.06 2.06-.94-2.06-.94L8.5 2.5l-.94 2.06-2.06.94zm10 10l.94 2.06.94-2.06 2.06-.94-2.06-.94-.94-2.06-.94 2.06-2.06.94z\"/><path d=\"M17.41 7.96l-1.37-1.37c-.4-.4-.92-.59-1.43-.59-.52 0-1.04.2-1.43.59L10.3 9.45l-7.72 7.72c-.78.78-.78 2.05 0 2.83L4 21.41c.39.39.9.59 1.41.59.51 0 1.02-.2 1.41-.59l7.78-7.78 2.81-2.81c.8-.78.8-2.07 0-2.86zM5.41 20L4 18.59l7.72-7.72 1.47 1.35L5.41 20z\"/>\n",
              "  </svg>\n",
              "      </button>\n",
              "      \n",
              "  <style>\n",
              "    .colab-df-container {\n",
              "      display:flex;\n",
              "      flex-wrap:wrap;\n",
              "      gap: 12px;\n",
              "    }\n",
              "\n",
              "    .colab-df-convert {\n",
              "      background-color: #E8F0FE;\n",
              "      border: none;\n",
              "      border-radius: 50%;\n",
              "      cursor: pointer;\n",
              "      display: none;\n",
              "      fill: #1967D2;\n",
              "      height: 32px;\n",
              "      padding: 0 0 0 0;\n",
              "      width: 32px;\n",
              "    }\n",
              "\n",
              "    .colab-df-convert:hover {\n",
              "      background-color: #E2EBFA;\n",
              "      box-shadow: 0px 1px 2px rgba(60, 64, 67, 0.3), 0px 1px 3px 1px rgba(60, 64, 67, 0.15);\n",
              "      fill: #174EA6;\n",
              "    }\n",
              "\n",
              "    [theme=dark] .colab-df-convert {\n",
              "      background-color: #3B4455;\n",
              "      fill: #D2E3FC;\n",
              "    }\n",
              "\n",
              "    [theme=dark] .colab-df-convert:hover {\n",
              "      background-color: #434B5C;\n",
              "      box-shadow: 0px 1px 3px 1px rgba(0, 0, 0, 0.15);\n",
              "      filter: drop-shadow(0px 1px 2px rgba(0, 0, 0, 0.3));\n",
              "      fill: #FFFFFF;\n",
              "    }\n",
              "  </style>\n",
              "\n",
              "      <script>\n",
              "        const buttonEl =\n",
              "          document.querySelector('#df-85e0b21b-8f37-43ab-b867-da3d78b6e7ec button.colab-df-convert');\n",
              "        buttonEl.style.display =\n",
              "          google.colab.kernel.accessAllowed ? 'block' : 'none';\n",
              "\n",
              "        async function convertToInteractive(key) {\n",
              "          const element = document.querySelector('#df-85e0b21b-8f37-43ab-b867-da3d78b6e7ec');\n",
              "          const dataTable =\n",
              "            await google.colab.kernel.invokeFunction('convertToInteractive',\n",
              "                                                     [key], {});\n",
              "          if (!dataTable) return;\n",
              "\n",
              "          const docLinkHtml = 'Like what you see? Visit the ' +\n",
              "            '<a target=\"_blank\" href=https://colab.research.google.com/notebooks/data_table.ipynb>data table notebook</a>'\n",
              "            + ' to learn more about interactive tables.';\n",
              "          element.innerHTML = '';\n",
              "          dataTable['output_type'] = 'display_data';\n",
              "          await google.colab.output.renderOutput(dataTable, element);\n",
              "          const docLink = document.createElement('div');\n",
              "          docLink.innerHTML = docLinkHtml;\n",
              "          element.appendChild(docLink);\n",
              "        }\n",
              "      </script>\n",
              "    </div>\n",
              "  </div>\n",
              "  "
            ],
            "text/plain": [
              "           vid_ID channel_title  ... comment_count likes_per_video\n",
              "1091  03BzO2xNeVM      Fox News  ...           0.0             0.5\n",
              "\n",
              "[1 rows x 9 columns]"
            ]
          },
          "metadata": {},
          "execution_count": 16
        }
      ]
    },
    {
      "cell_type": "markdown",
      "source": [
        "After checking the video above I found that it was removed and it only had a small number of views with 2 likes. That was why the likes per view percentage was high."
      ],
      "metadata": {
        "id": "zteRDATcS2oq"
      }
    },
    {
      "cell_type": "code",
      "source": [
        "# drop row\n",
        "update_df = df.drop([1091])"
      ],
      "metadata": {
        "id": "L7Kr6iQBS0SI"
      },
      "execution_count": 17,
      "outputs": []
    },
    {
      "cell_type": "code",
      "source": [
        "# updated distributions\n",
        "fig, ax = plt.subplots(1, 2 , figsize=(15,5))\n",
        "CNN_views = update_df[update_df['channel_title']== 'CNN']['likes_per_video']\n",
        "sns.histplot(CNN_views, ax = ax[0])\n",
        "mean_CNN = update_df[update_df['channel_title']== 'CNN']['likes_per_video'].mean()\n",
        "l1 = ax[0].axvline(x = mean_CNN, color = 'r')\n",
        "l1.set_label('Average')\n",
        "ax[0].legend(loc='best')\n",
        "ax[0].set_title('CNN Distribution of Percentage of Likes Per Viewership')\n",
        "\n",
        "plt.figure(figsize=(10,5))\n",
        "Fox_views = update_df[update_df['channel_title']== 'Fox News']['likes_per_video']\n",
        "mean_Fox = update_df[update_df['channel_title']== 'Fox News']['likes_per_video'].mean()\n",
        "l2 = ax[1].axvline(x = mean_Fox, color = 'r')\n",
        "l2.set_label('Average')\n",
        "ax[1].legend(loc='best')\n",
        "ax[1].set_title('Fox News Distribution of Percentage of Likes Per Viewership')\n",
        "sns.histplot(Fox_views, ax = ax[1])"
      ],
      "metadata": {
        "colab": {
          "base_uri": "https://localhost:8080/",
          "height": 386
        },
        "id": "-AHKuyA5UdcH",
        "outputId": "9ad28fb0-1599-4a57-fe9f-059066834ba1"
      },
      "execution_count": 18,
      "outputs": [
        {
          "output_type": "execute_result",
          "data": {
            "text/plain": [
              "<AxesSubplot:title={'center':'Fox News Distribution of Percentage of Likes Per Viewership'}, xlabel='likes_per_video', ylabel='Count'>"
            ]
          },
          "metadata": {},
          "execution_count": 18
        },
        {
          "output_type": "display_data",
          "data": {
            "image/png": "[encoded data removed]",
            "text/plain": [
              "<Figure size 1080x360 with 2 Axes>"
            ]
          },
          "metadata": {
            "needs_background": "light"
          }
        },
        {
          "output_type": "display_data",
          "data": {
            "text/plain": [
              "<Figure size 720x360 with 0 Axes>"
            ]
          },
          "metadata": {}
        }
      ]
    },
    {
      "cell_type": "code",
      "source": [
        "print(update_df[update_df['channel_title']== 'CNN']['likes_per_video'].mean())\n",
        "print(update_df[update_df['channel_title']== 'Fox News']['likes_per_video'].mean())"
      ],
      "metadata": {
        "colab": {
          "base_uri": "https://localhost:8080/"
        },
        "id": "kzDFo2PrVO3Y",
        "outputId": "ca8efe94-21f8-42ef-e79a-000cce203088"
      },
      "execution_count": 19,
      "outputs": [
        {
          "output_type": "stream",
          "name": "stdout",
          "text": [
            "0.016888324465287725\n",
            "0.03218044874051949\n"
          ]
        }
      ]
    },
    {
      "cell_type": "markdown",
      "source": [
        "As we can see the average percentage of likes to number of views is 1.6% for CNN and 3.2% for Fox News. So it does seem that there are more people who like the videos that Fox News post than CNN. It does still seem like these 1-3% number of likes per video are low. "
      ],
      "metadata": {
        "id": "FiAj1Ql9XwO0"
      }
    },
    {
      "cell_type": "markdown",
      "source": [
        "<a name='comments'></a>\n",
        "## Comments"
      ],
      "metadata": {
        "id": "9LjKdCKxl7G1"
      }
    },
    {
      "cell_type": "code",
      "source": [
        "# comments distribution\n",
        "fig, ax = plt.subplots(1, 2 , figsize=(15,5))\n",
        "CNN_views = update_df[update_df['channel_title']== 'CNN']['comment_count']\n",
        "sns.histplot(CNN_views, ax = ax[0])\n",
        "mean_CNN = update_df[update_df['channel_title']== 'CNN']['comment_count'].mean()\n",
        "l1 = ax[0].axvline(x = mean_CNN, color = 'r')\n",
        "l1.set_label('Average')\n",
        "ax[0].legend(loc='best')\n",
        "ax[0].set_title('CNN Comments Count Distribution')\n",
        "\n",
        "plt.figure(figsize=(10,5))\n",
        "Fox_views = update_df[update_df['channel_title']== 'Fox News']['comment_count']\n",
        "mean_Fox = update_df[update_df['channel_title']== 'Fox News']['comment_count'].mean()\n",
        "l2 = ax[1].axvline(x = mean_Fox, color = 'r')\n",
        "l2.set_label('Average')\n",
        "ax[1].legend(loc='best')\n",
        "ax[1].set_title('Fox News: Comments Count Distribution')\n",
        "sns.histplot(Fox_views, ax = ax[1])"
      ],
      "metadata": {
        "colab": {
          "base_uri": "https://localhost:8080/",
          "height": 385
        },
        "id": "nrjyGJH-XvFm",
        "outputId": "0a51d3d1-1ca3-4e9a-df58-9fbdf873c3e3"
      },
      "execution_count": 20,
      "outputs": [
        {
          "output_type": "execute_result",
          "data": {
            "text/plain": [
              "<AxesSubplot:title={'center':'Fox News: Comments Count Distribution'}, xlabel='comment_count', ylabel='Count'>"
            ]
          },
          "metadata": {},
          "execution_count": 20
        },
        {
          "output_type": "display_data",
          "data": {
            "image/png": "[encoded data removed]",
            "text/plain": [
              "<Figure size 1080x360 with 2 Axes>"
            ]
          },
          "metadata": {
            "needs_background": "light"
          }
        },
        {
          "output_type": "display_data",
          "data": {
            "text/plain": [
              "<Figure size 720x360 with 0 Axes>"
            ]
          },
          "metadata": {}
        }
      ]
    },
    {
      "cell_type": "code",
      "source": [
        "# see percentage of comments per video\n",
        "update_df['comment_per_video'] = update_df['comment_count'] / update_df['view_count']"
      ],
      "metadata": {
        "id": "msNNrmNSK9ae"
      },
      "execution_count": 21,
      "outputs": []
    },
    {
      "cell_type": "code",
      "source": [
        "# head\n",
        "update_df.head()"
      ],
      "metadata": {
        "colab": {
          "base_uri": "https://localhost:8080/",
          "height": 206
        },
        "id": "IAmIWmNPLKye",
        "outputId": "8d47af2f-b184-4313-ddc7-6170d91ab34d"
      },
      "execution_count": 22,
      "outputs": [
        {
          "output_type": "execute_result",
          "data": {
            "text/html": [
              "\n",
              "  <div id=\"df-7c3843c0-357a-46c2-854e-081e44c2bcce\">\n",
              "    <div class=\"colab-df-container\">\n",
              "      <div>\n",
              "<style scoped>\n",
              "    .dataframe tbody tr th:only-of-type {\n",
              "        vertical-align: middle;\n",
              "    }\n",
              "\n",
              "    .dataframe tbody tr th {\n",
              "        vertical-align: top;\n",
              "    }\n",
              "\n",
              "    .dataframe thead th {\n",
              "        text-align: right;\n",
              "    }\n",
              "</style>\n",
              "<table border=\"1\" class=\"dataframe\">\n",
              "  <thead>\n",
              "    <tr style=\"text-align: right;\">\n",
              "      <th></th>\n",
              "      <th>vid_ID</th>\n",
              "      <th>channel_title</th>\n",
              "      <th>description</th>\n",
              "      <th>time_published</th>\n",
              "      <th>title</th>\n",
              "      <th>view_count</th>\n",
              "      <th>like_count</th>\n",
              "      <th>comment_count</th>\n",
              "      <th>likes_per_video</th>\n",
              "      <th>comment_per_video</th>\n",
              "    </tr>\n",
              "  </thead>\n",
              "  <tbody>\n",
              "    <tr>\n",
              "      <th>0</th>\n",
              "      <td>enkiA-RmAK0</td>\n",
              "      <td>CNN</td>\n",
              "      <td>Members of the House Select Committee investig...</td>\n",
              "      <td>2021-12-17</td>\n",
              "      <td>Jan 6 investigators believe Nov. 4 text pushin...</td>\n",
              "      <td>73020.0</td>\n",
              "      <td>2007.0</td>\n",
              "      <td>1351.0</td>\n",
              "      <td>0.027486</td>\n",
              "      <td>0.018502</td>\n",
              "    </tr>\n",
              "    <tr>\n",
              "      <th>1</th>\n",
              "      <td>33X9-EEbJYU</td>\n",
              "      <td>CNN</td>\n",
              "      <td>Former police officer Kim Potter broke down on...</td>\n",
              "      <td>2021-12-17</td>\n",
              "      <td>Kim Potter breaks down on the stand during tes...</td>\n",
              "      <td>69997.0</td>\n",
              "      <td>676.0</td>\n",
              "      <td>2068.0</td>\n",
              "      <td>0.009658</td>\n",
              "      <td>0.029544</td>\n",
              "    </tr>\n",
              "    <tr>\n",
              "      <th>2</th>\n",
              "      <td>IeSo_o1O5J8</td>\n",
              "      <td>CNN</td>\n",
              "      <td>A House oversight committee report reveals tha...</td>\n",
              "      <td>2021-12-17</td>\n",
              "      <td>New damning report about Trump’s response to C...</td>\n",
              "      <td>350706.0</td>\n",
              "      <td>9515.0</td>\n",
              "      <td>6029.0</td>\n",
              "      <td>0.027131</td>\n",
              "      <td>0.017191</td>\n",
              "    </tr>\n",
              "    <tr>\n",
              "      <th>3</th>\n",
              "      <td>ESWScbGOB4I</td>\n",
              "      <td>CNN</td>\n",
              "      <td>Dr. Sanjay Gupta follows several families who ...</td>\n",
              "      <td>2021-12-17</td>\n",
              "      <td>‘Miracle’: See impact marijuana had on autisti...</td>\n",
              "      <td>76971.0</td>\n",
              "      <td>2962.0</td>\n",
              "      <td>1230.0</td>\n",
              "      <td>0.038482</td>\n",
              "      <td>0.015980</td>\n",
              "    </tr>\n",
              "    <tr>\n",
              "      <th>4</th>\n",
              "      <td>1aP7FE0ws0s</td>\n",
              "      <td>CNN</td>\n",
              "      <td>A judge in Delaware has found that Fox News' c...</td>\n",
              "      <td>2021-12-17</td>\n",
              "      <td>Dominion Voting wins key decision in lawsuit a...</td>\n",
              "      <td>285136.0</td>\n",
              "      <td>8202.0</td>\n",
              "      <td>3634.0</td>\n",
              "      <td>0.028765</td>\n",
              "      <td>0.012745</td>\n",
              "    </tr>\n",
              "  </tbody>\n",
              "</table>\n",
              "</div>\n",
              "      <button class=\"colab-df-convert\" onclick=\"convertToInteractive('df-7c3843c0-357a-46c2-854e-081e44c2bcce')\"\n",
              "              title=\"Convert this dataframe to an interactive table.\"\n",
              "              style=\"display:none;\">\n",
              "        \n",
              "  <svg xmlns=\"http://www.w3.org/2000/svg\" height=\"24px\"viewBox=\"0 0 24 24\"\n",
              "       width=\"24px\">\n",
              "    <path d=\"M0 0h24v24H0V0z\" fill=\"none\"/>\n",
              "    <path d=\"M18.56 5.44l.94 2.06.94-2.06 2.06-.94-2.06-.94-.94-2.06-.94 2.06-2.06.94zm-11 1L8.5 8.5l.94-2.06 2.06-.94-2.06-.94L8.5 2.5l-.94 2.06-2.06.94zm10 10l.94 2.06.94-2.06 2.06-.94-2.06-.94-.94-2.06-.94 2.06-2.06.94z\"/><path d=\"M17.41 7.96l-1.37-1.37c-.4-.4-.92-.59-1.43-.59-.52 0-1.04.2-1.43.59L10.3 9.45l-7.72 7.72c-.78.78-.78 2.05 0 2.83L4 21.41c.39.39.9.59 1.41.59.51 0 1.02-.2 1.41-.59l7.78-7.78 2.81-2.81c.8-.78.8-2.07 0-2.86zM5.41 20L4 18.59l7.72-7.72 1.47 1.35L5.41 20z\"/>\n",
              "  </svg>\n",
              "      </button>\n",
              "      \n",
              "  <style>\n",
              "    .colab-df-container {\n",
              "      display:flex;\n",
              "      flex-wrap:wrap;\n",
              "      gap: 12px;\n",
              "    }\n",
              "\n",
              "    .colab-df-convert {\n",
              "      background-color: #E8F0FE;\n",
              "      border: none;\n",
              "      border-radius: 50%;\n",
              "      cursor: pointer;\n",
              "      display: none;\n",
              "      fill: #1967D2;\n",
              "      height: 32px;\n",
              "      padding: 0 0 0 0;\n",
              "      width: 32px;\n",
              "    }\n",
              "\n",
              "    .colab-df-convert:hover {\n",
              "      background-color: #E2EBFA;\n",
              "      box-shadow: 0px 1px 2px rgba(60, 64, 67, 0.3), 0px 1px 3px 1px rgba(60, 64, 67, 0.15);\n",
              "      fill: #174EA6;\n",
              "    }\n",
              "\n",
              "    [theme=dark] .colab-df-convert {\n",
              "      background-color: #3B4455;\n",
              "      fill: #D2E3FC;\n",
              "    }\n",
              "\n",
              "    [theme=dark] .colab-df-convert:hover {\n",
              "      background-color: #434B5C;\n",
              "      box-shadow: 0px 1px 3px 1px rgba(0, 0, 0, 0.15);\n",
              "      filter: drop-shadow(0px 1px 2px rgba(0, 0, 0, 0.3));\n",
              "      fill: #FFFFFF;\n",
              "    }\n",
              "  </style>\n",
              "\n",
              "      <script>\n",
              "        const buttonEl =\n",
              "          document.querySelector('#df-7c3843c0-357a-46c2-854e-081e44c2bcce button.colab-df-convert');\n",
              "        buttonEl.style.display =\n",
              "          google.colab.kernel.accessAllowed ? 'block' : 'none';\n",
              "\n",
              "        async function convertToInteractive(key) {\n",
              "          const element = document.querySelector('#df-7c3843c0-357a-46c2-854e-081e44c2bcce');\n",
              "          const dataTable =\n",
              "            await google.colab.kernel.invokeFunction('convertToInteractive',\n",
              "                                                     [key], {});\n",
              "          if (!dataTable) return;\n",
              "\n",
              "          const docLinkHtml = 'Like what you see? Visit the ' +\n",
              "            '<a target=\"_blank\" href=https://colab.research.google.com/notebooks/data_table.ipynb>data table notebook</a>'\n",
              "            + ' to learn more about interactive tables.';\n",
              "          element.innerHTML = '';\n",
              "          dataTable['output_type'] = 'display_data';\n",
              "          await google.colab.output.renderOutput(dataTable, element);\n",
              "          const docLink = document.createElement('div');\n",
              "          docLink.innerHTML = docLinkHtml;\n",
              "          element.appendChild(docLink);\n",
              "        }\n",
              "      </script>\n",
              "    </div>\n",
              "  </div>\n",
              "  "
            ],
            "text/plain": [
              "        vid_ID channel_title  ... likes_per_video comment_per_video\n",
              "0  enkiA-RmAK0           CNN  ...        0.027486          0.018502\n",
              "1  33X9-EEbJYU           CNN  ...        0.009658          0.029544\n",
              "2  IeSo_o1O5J8           CNN  ...        0.027131          0.017191\n",
              "3  ESWScbGOB4I           CNN  ...        0.038482          0.015980\n",
              "4  1aP7FE0ws0s           CNN  ...        0.028765          0.012745\n",
              "\n",
              "[5 rows x 10 columns]"
            ]
          },
          "metadata": {},
          "execution_count": 22
        }
      ]
    },
    {
      "cell_type": "code",
      "source": [
        "# distribution of comment per video\n",
        "fig, ax = plt.subplots(1, 2 , figsize=(15,5))\n",
        "CNN_views = update_df[update_df['channel_title']== 'CNN']['comment_per_video']\n",
        "sns.histplot(CNN_views, ax = ax[0])\n",
        "mean_CNN = update_df[update_df['channel_title']== 'CNN']['comment_per_video'].mean()\n",
        "l1 = ax[0].axvline(x = mean_CNN, color = 'r')\n",
        "l1.set_label('Average')\n",
        "ax[0].legend(loc='best')\n",
        "ax[0].set_title('CNN Distribution of Percentage of Comments Per Viewership')\n",
        "\n",
        "plt.figure(figsize=(10,5))\n",
        "Fox_views = update_df[update_df['channel_title']== 'Fox News']['comment_per_video']\n",
        "mean_Fox = update_df[update_df['channel_title']== 'Fox News']['comment_per_video'].mean()\n",
        "l2 = ax[1].axvline(x = mean_Fox, color = 'r')\n",
        "l2.set_label('Average')\n",
        "ax[1].legend(loc='best')\n",
        "ax[1].set_title('Fox News Distribution of Percentage of Comments Per Viewership')\n",
        "sns.histplot(Fox_views, ax = ax[1])"
      ],
      "metadata": {
        "colab": {
          "base_uri": "https://localhost:8080/",
          "height": 386
        },
        "id": "-v_pWKeQLjoX",
        "outputId": "5ed6bd88-4938-4b50-92ba-0668bd8b1ca9"
      },
      "execution_count": 23,
      "outputs": [
        {
          "output_type": "execute_result",
          "data": {
            "text/plain": [
              "<AxesSubplot:title={'center':'Fox News Distribution of Percentage of Comments Per Viewership'}, xlabel='comment_per_video', ylabel='Count'>"
            ]
          },
          "metadata": {},
          "execution_count": 23
        },
        {
          "output_type": "display_data",
          "data": {
            "image/png": "[encoded data removed]",
            "text/plain": [
              "<Figure size 1080x360 with 2 Axes>"
            ]
          },
          "metadata": {
            "needs_background": "light"
          }
        },
        {
          "output_type": "display_data",
          "data": {
            "text/plain": [
              "<Figure size 720x360 with 0 Axes>"
            ]
          },
          "metadata": {}
        }
      ]
    },
    {
      "cell_type": "markdown",
      "source": [
        "The average number of comments for CNN is close to 2% and Fox News is less than 1%. When I was looking at the dataset I noticed that there were videos with 0 comments. This was because the comments were turned off. As we can see the distribution of the percentage of comments per video there is a high number of 0 in the Fox News distribution. "
      ],
      "metadata": {
        "id": "33NrrnDKqAqV"
      }
    },
    {
      "cell_type": "markdown",
      "source": [
        "<a name='comments_closed'></a>\n",
        "### Number of Videos with Comments Closed"
      ],
      "metadata": {
        "id": "GWKCZqk8cn0Z"
      }
    },
    {
      "cell_type": "code",
      "source": [
        "# There are 95 videos that have 0 comments\n",
        "update_df[update_df['comment_count'] == 0]"
      ],
      "metadata": {
        "colab": {
          "base_uri": "https://localhost:8080/",
          "height": 424
        },
        "id": "3w61UTIaqPCl",
        "outputId": "b81f32c4-3a9a-4e8c-f8b9-bbf3591097e5"
      },
      "execution_count": 24,
      "outputs": [
        {
          "output_type": "execute_result",
          "data": {
            "text/html": [
              "\n",
              "  <div id=\"df-0ca444ea-f459-4bf0-99da-dcef842ea0f1\">\n",
              "    <div class=\"colab-df-container\">\n",
              "      <div>\n",
              "<style scoped>\n",
              "    .dataframe tbody tr th:only-of-type {\n",
              "        vertical-align: middle;\n",
              "    }\n",
              "\n",
              "    .dataframe tbody tr th {\n",
              "        vertical-align: top;\n",
              "    }\n",
              "\n",
              "    .dataframe thead th {\n",
              "        text-align: right;\n",
              "    }\n",
              "</style>\n",
              "<table border=\"1\" class=\"dataframe\">\n",
              "  <thead>\n",
              "    <tr style=\"text-align: right;\">\n",
              "      <th></th>\n",
              "      <th>vid_ID</th>\n",
              "      <th>channel_title</th>\n",
              "      <th>description</th>\n",
              "      <th>time_published</th>\n",
              "      <th>title</th>\n",
              "      <th>view_count</th>\n",
              "      <th>like_count</th>\n",
              "      <th>comment_count</th>\n",
              "      <th>likes_per_video</th>\n",
              "      <th>comment_per_video</th>\n",
              "    </tr>\n",
              "  </thead>\n",
              "  <tbody>\n",
              "    <tr>\n",
              "      <th>516</th>\n",
              "      <td>nNMF6MuYaSM</td>\n",
              "      <td>CNN</td>\n",
              "      <td>World leaders are gathering for a crucial clim...</td>\n",
              "      <td>2021-10-28</td>\n",
              "      <td>What is COP26?</td>\n",
              "      <td>32722.0</td>\n",
              "      <td>458.0</td>\n",
              "      <td>0.0</td>\n",
              "      <td>0.013997</td>\n",
              "      <td>0.0</td>\n",
              "    </tr>\n",
              "    <tr>\n",
              "      <th>564</th>\n",
              "      <td>KhK1PMze8Mo</td>\n",
              "      <td>CNN</td>\n",
              "      <td>The iPod was the hottest gadget of the early 2...</td>\n",
              "      <td>2021-10-22</td>\n",
              "      <td>How the iPod changed music forever</td>\n",
              "      <td>25361.0</td>\n",
              "      <td>446.0</td>\n",
              "      <td>0.0</td>\n",
              "      <td>0.017586</td>\n",
              "      <td>0.0</td>\n",
              "    </tr>\n",
              "    <tr>\n",
              "      <th>577</th>\n",
              "      <td>3Gw2T19WPeA</td>\n",
              "      <td>CNN</td>\n",
              "      <td>In May 2020, Jennifer Bates was just a woman i...</td>\n",
              "      <td>2021-10-21</td>\n",
              "      <td>Woman fights to unionize Amazon</td>\n",
              "      <td>9173.0</td>\n",
              "      <td>352.0</td>\n",
              "      <td>0.0</td>\n",
              "      <td>0.038373</td>\n",
              "      <td>0.0</td>\n",
              "    </tr>\n",
              "    <tr>\n",
              "      <th>721</th>\n",
              "      <td>DD-qUmvekjo</td>\n",
              "      <td>CNN</td>\n",
              "      <td>ChowNow CEO Chris Webb talks with CNN Business...</td>\n",
              "      <td>2021-10-07</td>\n",
              "      <td>ChowNow CEO discusses the future of food delivery</td>\n",
              "      <td>9953.0</td>\n",
              "      <td>159.0</td>\n",
              "      <td>0.0</td>\n",
              "      <td>0.015975</td>\n",
              "      <td>0.0</td>\n",
              "    </tr>\n",
              "    <tr>\n",
              "      <th>761</th>\n",
              "      <td>03kVu7LgCbg</td>\n",
              "      <td>CNN</td>\n",
              "      <td>Tanitoluwa “Tani” Adewumi is a young chess pla...</td>\n",
              "      <td>2021-10-04</td>\n",
              "      <td>The 11-year-old chess master who fled Boko Har...</td>\n",
              "      <td>15498.0</td>\n",
              "      <td>819.0</td>\n",
              "      <td>0.0</td>\n",
              "      <td>0.052846</td>\n",
              "      <td>0.0</td>\n",
              "    </tr>\n",
              "    <tr>\n",
              "      <th>...</th>\n",
              "      <td>...</td>\n",
              "      <td>...</td>\n",
              "      <td>...</td>\n",
              "      <td>...</td>\n",
              "      <td>...</td>\n",
              "      <td>...</td>\n",
              "      <td>...</td>\n",
              "      <td>...</td>\n",
              "      <td>...</td>\n",
              "      <td>...</td>\n",
              "    </tr>\n",
              "    <tr>\n",
              "      <th>1911</th>\n",
              "      <td>e4PoDTArfGo</td>\n",
              "      <td>Fox News</td>\n",
              "      <td>Fox News contributor and civil rights attorney...</td>\n",
              "      <td>2021-11-10</td>\n",
              "      <td>Kyle Rittenhouse breaks down in tears on witne...</td>\n",
              "      <td>543334.0</td>\n",
              "      <td>0.0</td>\n",
              "      <td>0.0</td>\n",
              "      <td>0.000000</td>\n",
              "      <td>0.0</td>\n",
              "    </tr>\n",
              "    <tr>\n",
              "      <th>1960</th>\n",
              "      <td>4QxmoI8Ujuc</td>\n",
              "      <td>Fox News</td>\n",
              "      <td>Barstool Sports founder Dave Portnoy responds ...</td>\n",
              "      <td>2021-11-09</td>\n",
              "      <td>Dave Portnoy hits back at 'sleazy' hit piece o...</td>\n",
              "      <td>697251.0</td>\n",
              "      <td>21647.0</td>\n",
              "      <td>0.0</td>\n",
              "      <td>0.031046</td>\n",
              "      <td>0.0</td>\n",
              "    </tr>\n",
              "    <tr>\n",
              "      <th>1971</th>\n",
              "      <td>oc9H8a7no88</td>\n",
              "      <td>Fox News</td>\n",
              "      <td>'Outnumbered' panel discusses President Biden ...</td>\n",
              "      <td>2021-11-08</td>\n",
              "      <td>Biden's actions send the message that he doesn...</td>\n",
              "      <td>403245.0</td>\n",
              "      <td>14405.0</td>\n",
              "      <td>0.0</td>\n",
              "      <td>0.035723</td>\n",
              "      <td>0.0</td>\n",
              "    </tr>\n",
              "    <tr>\n",
              "      <th>1989</th>\n",
              "      <td>wZDvWH45BUQ</td>\n",
              "      <td>Fox News</td>\n",
              "      <td>Fox News contributor Mike Huckabee discussed t...</td>\n",
              "      <td>2021-11-07</td>\n",
              "      <td>Vaccine mandate halted for larger companies</td>\n",
              "      <td>705486.0</td>\n",
              "      <td>25247.0</td>\n",
              "      <td>0.0</td>\n",
              "      <td>0.035787</td>\n",
              "      <td>0.0</td>\n",
              "    </tr>\n",
              "    <tr>\n",
              "      <th>1994</th>\n",
              "      <td>UAtSE-ytvk4</td>\n",
              "      <td>Fox News</td>\n",
              "      <td>Fox News contributor Tom Homan reacted to the ...</td>\n",
              "      <td>2021-11-07</td>\n",
              "      <td>Biden reportedly allows dozens of migrant flig...</td>\n",
              "      <td>433509.0</td>\n",
              "      <td>17571.0</td>\n",
              "      <td>0.0</td>\n",
              "      <td>0.040532</td>\n",
              "      <td>0.0</td>\n",
              "    </tr>\n",
              "  </tbody>\n",
              "</table>\n",
              "<p>95 rows × 10 columns</p>\n",
              "</div>\n",
              "      <button class=\"colab-df-convert\" onclick=\"convertToInteractive('df-0ca444ea-f459-4bf0-99da-dcef842ea0f1')\"\n",
              "              title=\"Convert this dataframe to an interactive table.\"\n",
              "              style=\"display:none;\">\n",
              "        \n",
              "  <svg xmlns=\"http://www.w3.org/2000/svg\" height=\"24px\"viewBox=\"0 0 24 24\"\n",
              "       width=\"24px\">\n",
              "    <path d=\"M0 0h24v24H0V0z\" fill=\"none\"/>\n",
              "    <path d=\"M18.56 5.44l.94 2.06.94-2.06 2.06-.94-2.06-.94-.94-2.06-.94 2.06-2.06.94zm-11 1L8.5 8.5l.94-2.06 2.06-.94-2.06-.94L8.5 2.5l-.94 2.06-2.06.94zm10 10l.94 2.06.94-2.06 2.06-.94-2.06-.94-.94-2.06-.94 2.06-2.06.94z\"/><path d=\"M17.41 7.96l-1.37-1.37c-.4-.4-.92-.59-1.43-.59-.52 0-1.04.2-1.43.59L10.3 9.45l-7.72 7.72c-.78.78-.78 2.05 0 2.83L4 21.41c.39.39.9.59 1.41.59.51 0 1.02-.2 1.41-.59l7.78-7.78 2.81-2.81c.8-.78.8-2.07 0-2.86zM5.41 20L4 18.59l7.72-7.72 1.47 1.35L5.41 20z\"/>\n",
              "  </svg>\n",
              "      </button>\n",
              "      \n",
              "  <style>\n",
              "    .colab-df-container {\n",
              "      display:flex;\n",
              "      flex-wrap:wrap;\n",
              "      gap: 12px;\n",
              "    }\n",
              "\n",
              "    .colab-df-convert {\n",
              "      background-color: #E8F0FE;\n",
              "      border: none;\n",
              "      border-radius: 50%;\n",
              "      cursor: pointer;\n",
              "      display: none;\n",
              "      fill: #1967D2;\n",
              "      height: 32px;\n",
              "      padding: 0 0 0 0;\n",
              "      width: 32px;\n",
              "    }\n",
              "\n",
              "    .colab-df-convert:hover {\n",
              "      background-color: #E2EBFA;\n",
              "      box-shadow: 0px 1px 2px rgba(60, 64, 67, 0.3), 0px 1px 3px 1px rgba(60, 64, 67, 0.15);\n",
              "      fill: #174EA6;\n",
              "    }\n",
              "\n",
              "    [theme=dark] .colab-df-convert {\n",
              "      background-color: #3B4455;\n",
              "      fill: #D2E3FC;\n",
              "    }\n",
              "\n",
              "    [theme=dark] .colab-df-convert:hover {\n",
              "      background-color: #434B5C;\n",
              "      box-shadow: 0px 1px 3px 1px rgba(0, 0, 0, 0.15);\n",
              "      filter: drop-shadow(0px 1px 2px rgba(0, 0, 0, 0.3));\n",
              "      fill: #FFFFFF;\n",
              "    }\n",
              "  </style>\n",
              "\n",
              "      <script>\n",
              "        const buttonEl =\n",
              "          document.querySelector('#df-0ca444ea-f459-4bf0-99da-dcef842ea0f1 button.colab-df-convert');\n",
              "        buttonEl.style.display =\n",
              "          google.colab.kernel.accessAllowed ? 'block' : 'none';\n",
              "\n",
              "        async function convertToInteractive(key) {\n",
              "          const element = document.querySelector('#df-0ca444ea-f459-4bf0-99da-dcef842ea0f1');\n",
              "          const dataTable =\n",
              "            await google.colab.kernel.invokeFunction('convertToInteractive',\n",
              "                                                     [key], {});\n",
              "          if (!dataTable) return;\n",
              "\n",
              "          const docLinkHtml = 'Like what you see? Visit the ' +\n",
              "            '<a target=\"_blank\" href=https://colab.research.google.com/notebooks/data_table.ipynb>data table notebook</a>'\n",
              "            + ' to learn more about interactive tables.';\n",
              "          element.innerHTML = '';\n",
              "          dataTable['output_type'] = 'display_data';\n",
              "          await google.colab.output.renderOutput(dataTable, element);\n",
              "          const docLink = document.createElement('div');\n",
              "          docLink.innerHTML = docLinkHtml;\n",
              "          element.appendChild(docLink);\n",
              "        }\n",
              "      </script>\n",
              "    </div>\n",
              "  </div>\n",
              "  "
            ],
            "text/plain": [
              "           vid_ID channel_title  ... likes_per_video comment_per_video\n",
              "516   nNMF6MuYaSM           CNN  ...        0.013997               0.0\n",
              "564   KhK1PMze8Mo           CNN  ...        0.017586               0.0\n",
              "577   3Gw2T19WPeA           CNN  ...        0.038373               0.0\n",
              "721   DD-qUmvekjo           CNN  ...        0.015975               0.0\n",
              "761   03kVu7LgCbg           CNN  ...        0.052846               0.0\n",
              "...           ...           ...  ...             ...               ...\n",
              "1911  e4PoDTArfGo      Fox News  ...        0.000000               0.0\n",
              "1960  4QxmoI8Ujuc      Fox News  ...        0.031046               0.0\n",
              "1971  oc9H8a7no88      Fox News  ...        0.035723               0.0\n",
              "1989  wZDvWH45BUQ      Fox News  ...        0.035787               0.0\n",
              "1994  UAtSE-ytvk4      Fox News  ...        0.040532               0.0\n",
              "\n",
              "[95 rows x 10 columns]"
            ]
          },
          "metadata": {},
          "execution_count": 24
        }
      ]
    },
    {
      "cell_type": "code",
      "source": [
        "ax = update_df[update_df['comment_count'] == 0].groupby('channel_title').size().plot(kind='bar')\n",
        "ax.bar_label(ax.containers[0])\n",
        "ax.set_title('Number of Videos Where Comments Are Turned Off')"
      ],
      "metadata": {
        "colab": {
          "base_uri": "https://localhost:8080/",
          "height": 350
        },
        "id": "2tH8SOWlp7Jf",
        "outputId": "bf76612e-56ba-414a-a382-37cba0f1d0b1"
      },
      "execution_count": 25,
      "outputs": [
        {
          "output_type": "execute_result",
          "data": {
            "text/plain": [
              "Text(0.5, 1.0, 'Number of Videos Where Comments Are Turned Off')"
            ]
          },
          "metadata": {},
          "execution_count": 25
        },
        {
          "output_type": "display_data",
          "data": {
            "image/png": "[encoded data removed]",
            "text/plain": [
              "<Figure size 432x288 with 1 Axes>"
            ]
          },
          "metadata": {
            "needs_background": "light"
          }
        }
      ]
    },
    {
      "cell_type": "markdown",
      "source": [
        "As we can see Fox News has 89 videos that have comments closed opposed to 6 for CNN. There may be different reasons why they close comments for example if a topic is controversial."
      ],
      "metadata": {
        "id": "1XTW61ubVBfv"
      }
    },
    {
      "cell_type": "markdown",
      "source": [
        "<a name='Title'></a>\n",
        "## Analyzing Title Text with NLTK"
      ],
      "metadata": {
        "id": "XYoE8sY4VU2O"
      }
    },
    {
      "cell_type": "markdown",
      "source": [
        "My next objective in this analysis is to determine what topics each network focused on."
      ],
      "metadata": {
        "id": "BvVXpTXCWfov"
      }
    },
    {
      "cell_type": "code",
      "source": [
        "# tokenize words\n",
        "token_title = update_df.apply(lambda row: nltk.word_tokenize(row['title']), axis=1)\n",
        "\n",
        "# tokens for each network\n",
        "cnn_tokens = [item for sublist in list(token_title[:1000]) for item in sublist]\n",
        "fox_tokens = [item for sublist in list(token_title[1000:]) for item in sublist]"
      ],
      "metadata": {
        "id": "TfCC0nrsVAXt"
      },
      "execution_count": 26,
      "outputs": []
    },
    {
      "cell_type": "code",
      "source": [
        "def preprocess_words(words):\n",
        "  ## takes a  list of words to preprocess\n",
        "\n",
        "  # stemming and to remove stop words\n",
        "  stemmer = SnowballStemmer(\"english\")\n",
        "  stop_words = stopwords.words('english')\n",
        "\n",
        "  # processing\n",
        "  filtered_list = [word for word in words if word.casefold() not in stop_words]\n",
        "  words_only = [word for word in filtered_list if word.isalnum()]\n",
        "  stemmed_words =[stemmer.stem(word) for word in words_only]\n",
        "\n",
        "  return stemmed_words"
      ],
      "metadata": {
        "id": "uBSuBYoEd1-N"
      },
      "execution_count": 27,
      "outputs": []
    },
    {
      "cell_type": "code",
      "source": [
        "# clean tokens\n",
        "cnn_tokens_clean = preprocess_words(cnn_tokens)\n",
        "fox_tokens_clean = preprocess_words(fox_tokens)"
      ],
      "metadata": {
        "id": "qMTk6JBKvY3z"
      },
      "execution_count": 28,
      "outputs": []
    },
    {
      "cell_type": "markdown",
      "source": [
        "<a name='word'></a>\n",
        "### Word Frequency"
      ],
      "metadata": {
        "id": "ZWiJCOp3dmZ8"
      }
    },
    {
      "cell_type": "code",
      "source": [
        "# plot to show frequencies of words found in title for cnn\n",
        "freq = nltk.FreqDist(cnn_tokens_clean)\n",
        "freq.plot(20, cumulative=False, title = 'CNN Word Frequency')\n",
        "\n",
        "# plot to show frequencies of words found in title for fox\n",
        "freq = nltk.FreqDist(fox_tokens_clean)\n",
        "freq.plot(20, cumulative=False, title = 'Fox News Word Frequency')\n",
        "plt.show()"
      ],
      "metadata": {
        "colab": {
          "base_uri": "https://localhost:8080/",
          "height": 653
        },
        "id": "Emgiv21zyMkR",
        "outputId": "2907584f-2d67-4185-cdda-9a567a4e4cd3"
      },
      "execution_count": 29,
      "outputs": [
        {
          "output_type": "display_data",
          "data": {
            "image/png": "[encoded data removed]",
            "text/plain": [
              "<Figure size 432x288 with 1 Axes>"
            ]
          },
          "metadata": {
            "needs_background": "light"
          }
        },
        {
          "output_type": "display_data",
          "data": {
            "image/png": "[encoded data removed]",
            "text/plain": [
              "<Figure size 432x288 with 1 Axes>"
            ]
          },
          "metadata": {
            "needs_background": "light"
          }
        }
      ]
    },
    {
      "cell_type": "markdown",
      "source": [
        "From the graphs above we can see that Trump was CNNs most mentioned word and Biden was Fox News most mentioned word. We can assume that they were probably not nice titles. CNN also mentions the vaccine and 6 which could refer to January 6 incident. Rittenhouse was another big topic for Fox News because they were strongly supporting him."
      ],
      "metadata": {
        "id": "r9tBQY_hdLiq"
      }
    },
    {
      "cell_type": "markdown",
      "source": [
        "<a name='bigram'></a>\n",
        "### Bigram Frequency"
      ],
      "metadata": {
        "id": "HFwjHrbXdt8V"
      }
    },
    {
      "cell_type": "code",
      "source": [
        "# cnn bigrams\n",
        "bigrams = nltk.bigrams(cnn_tokens_clean)\n",
        "freq = nltk.FreqDist(bigrams)\n",
        "freq.plot(20, cumulative=False, title = 'CNN Bigram Frequency')\n",
        "\n",
        "# fox News bigrams\n",
        "bigrams = nltk.bigrams(fox_tokens_clean)\n",
        "freq = nltk.FreqDist(bigrams)\n",
        "freq.plot(20, cumulative=False, title = 'Fox News Bigram Frequency')"
      ],
      "metadata": {
        "colab": {
          "base_uri": "https://localhost:8080/",
          "height": 751
        },
        "id": "3xB_g3LjdKTx",
        "outputId": "76b03217-1cc7-4851-d3fe-7ffab0c1736c"
      },
      "execution_count": 30,
      "outputs": [
        {
          "output_type": "display_data",
          "data": {
            "image/png": "[encoded data removed]",
            "text/plain": [
              "<Figure size 432x288 with 1 Axes>"
            ]
          },
          "metadata": {
            "needs_background": "light"
          }
        },
        {
          "output_type": "display_data",
          "data": {
            "image/png": "[encoded data removed]",
            "text/plain": [
              "<Figure size 432x288 with 1 Axes>"
            ]
          },
          "metadata": {
            "needs_background": "light"
          }
        }
      ]
    },
    {
      "cell_type": "markdown",
      "source": [
        "Our bigrams plots above show that indeed CNN had alot of titles that contained January 6 and Committee which refer to the incident at the capital. Fox News mentioned the White House and Kyle Rittenhouse alot in their titles so we can conclude these were some of the most important topics."
      ],
      "metadata": {
        "id": "4S10N7tCqhnt"
      }
    },
    {
      "cell_type": "markdown",
      "source": [
        "## Conclusion\n",
        "In conclusion I found that:\n",
        "- Fox News is more active in their channel by uploading more videos per day than CNN. \n",
        "- Fox News users also like more videos on average than CNNs viewers by a margin of 2%. \n",
        "- For both networks the majority of videos have less than 1 million views, but there are some outliers that have 5 millions views. These tend to be very important national topics such as Kyle Rittenhouse and Travis Scott concert.\n",
        "- Both networks have even a small margin of users that comment ranging from 1-2% on average.\n",
        "- Fox News has close to 9% of comments closed on their videos.\n",
        "- From our titles we can conclude that some of the most important topics for CNN was the January 6th incident and the Ahmaud Arbery trial.\n",
        "- Fox News most important topics were Kyle Rittenhouse and the vaccine mandate."
      ],
      "metadata": {
        "id": "tntPYU8ceA2d"
      }
    },
    {
      "cell_type": "code",
      "source": [
        ""
      ],
      "metadata": {
        "id": "XejC8CJAd-Tf"
      },
      "execution_count": null,
      "outputs": []
    }
  ]
}