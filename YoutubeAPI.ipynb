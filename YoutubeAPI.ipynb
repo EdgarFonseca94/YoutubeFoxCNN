{
  "nbformat": 4,
  "nbformat_minor": 0,
  "metadata": {
    "colab": {
      "name": "YoutubeAPI.ipynb",
      "provenance": [],
      "collapsed_sections": []
    },
    "kernelspec": {
      "name": "python3",
      "display_name": "Python 3"
    },
    "language_info": {
      "name": "python"
    }
  },
  "cells": [
    {
      "cell_type": "code",
      "execution_count": 1,
      "metadata": {
        "id": "Ns7OZhk9vCbC"
      },
      "outputs": [],
      "source": [
        "# import libraries\n",
        "import requests\n",
        "import pandas as pd\n",
        "import time\n",
        "from google.colab import  drive"
      ]
    },
    {
      "cell_type": "code",
      "source": [
        "def fetch_video_info(vid_ID):\n",
        "    # statistics requests\n",
        "    url_video_stats = 'https://www.googleapis.com/youtube/v3/videos?id='+vid_ID+'&part=statistics&key='+API_KEY\n",
        "    res_video_stats = requests.get(url_video_stats).json()\n",
        "    time.sleep(1)\n",
        "\n",
        "    # parse stats requests to get counts\n",
        "    view_count = res_video_stats['items'][0]['statistics']['viewCount']\n",
        "    try:\n",
        "      like_count = res_video_stats['items'][0]['statistics']['likeCount']\n",
        "    except KeyError:\n",
        "      like_count = res_video_stats.get('likeCount', 0)\n",
        "    try:\n",
        "      comment_count = res_video_stats['items'][0]['statistics']['commentCount']\n",
        "    except KeyError:\n",
        "      comment_count = res_video_stats.get('commentCount', 0)\n",
        "    \n",
        "    return view_count, like_count, comment_count"
      ],
      "metadata": {
        "id": "IYE62ylOvErc"
      },
      "execution_count": 2,
      "outputs": []
    },
    {
      "cell_type": "code",
      "source": [
        "def get_videos(res, df):\n",
        "  for video in res['items']:\n",
        "    if video['snippet']['resourceId']['kind'] == 'youtube#video':\n",
        "      vid_ID = video['contentDetails']['videoId']\n",
        "      channel_title = video['snippet']['videoOwnerChannelTitle']\n",
        "      description = video['snippet']['description']\n",
        "      time_published = str(video['snippet']['publishedAt']).split('T')[0]\n",
        "      title = video['snippet']['title']\n",
        "\n",
        "      view_count, like_count, comment_count = fetch_video_info(vid_ID)\n",
        "\n",
        "      df = df.append({\n",
        "          'vid_ID': vid_ID,\n",
        "          'channel_title': channel_title,\n",
        "          'title':title,\n",
        "          'description': description,\n",
        "          'view_count':view_count,\n",
        "          'like_count': like_count,\n",
        "          'comment_count':comment_count,\n",
        "          'time_published':time_published\n",
        "      }, ignore_index=True)\n",
        "\n",
        "  return df"
      ],
      "metadata": {
        "id": "PYdNNZqovKUl"
      },
      "execution_count": 3,
      "outputs": []
    },
    {
      "cell_type": "code",
      "source": [
        "def getUploadResponses(num_pages):\n",
        "  # get playlist ID\n",
        "  url = 'https://www.googleapis.com/youtube/v3/channels?part=contentDetails&id='+CH_ID+'&key='+API_KEY\n",
        "  res = requests.get(url).json()\n",
        "\n",
        "  UploadID = res['items'][0]['contentDetails']['relatedPlaylists']['uploads']\n",
        "\n",
        "  # API call\n",
        "  pageToken = ''\n",
        "\n",
        "  # initial call\n",
        "  url = 'https://www.googleapis.com/youtube/v3/playlistItems?part=snippet%2CcontentDetails&maxResults=50&playlistId='+UploadID+'&key='+API_KEY+'&pageToken='+pageToken\n",
        "  res = requests.get(url).json()\n",
        "  time.sleep(1)\n",
        "\n",
        "  # get next page token\n",
        "  nextPageToken = res.get('nextPageToken')\n",
        "  for x in range(num_pages - 1):\n",
        "    # requests next page\n",
        "    url = 'https://www.googleapis.com/youtube/v3/playlistItems?part=snippet%2CcontentDetails&maxResults=50&playlistId='+UploadID+'&key='+API_KEY+'&pageToken='+nextPageToken\n",
        "    next_page = requests.get(url).json()\n",
        "    time.sleep(1)\n",
        "\n",
        "    # add items from both responses into one response\n",
        "    res['items'] = res['items'] + next_page['items']\n",
        "\n",
        "    # check if there is another page, if not break loop\n",
        "    # else get nextPageToken\n",
        "    if 'nextPageToken' not in next_page:\n",
        "       break\n",
        "    else:\n",
        "        nextPageToken = next_page['nextPageToken']\n",
        "  \n",
        "  return res"
      ],
      "metadata": {
        "id": "zh9RJx8MvNLC"
      },
      "execution_count": 5,
      "outputs": []
    },
    {
      "cell_type": "code",
      "source": [
        "# keys\n",
        "API_KEY = ''"
      ],
      "metadata": {
        "id": "GQCvQt97vRow"
      },
      "execution_count": 6,
      "outputs": []
    },
    {
      "cell_type": "code",
      "source": [
        "# dataframe to save parse video FOX NEWS info\n",
        "df1 = pd.DataFrame(columns = ['vid_ID', 'channel_title', 'description', 'time_published', 'title', 'view_count', 'like_count', 'comment_count'])"
      ],
      "metadata": {
        "id": "NdKOCDKXvsH5"
      },
      "execution_count": 7,
      "outputs": []
    },
    {
      "cell_type": "code",
      "source": [
        "# fetch responses for  CNN, build dataframe\n",
        "CH_ID = 'UCupvZG-5ko_eiXAupbDfxWw'\n",
        "CNNRes = getUploadResponses(20)\n",
        "df1 = get_videos(CNNRes,df1)"
      ],
      "metadata": {
        "id": "LPBDqa-AvtKI"
      },
      "execution_count": 8,
      "outputs": []
    },
    {
      "cell_type": "code",
      "source": [
        "# dataframe to save parse video CNN info\n",
        "df2 = pd.DataFrame(columns = ['vid_ID', 'channel_title', 'description', 'time_published', 'title', 'view_count', 'like_count', 'comment_count'])"
      ],
      "metadata": {
        "id": "sB1caXGV0RUt"
      },
      "execution_count": 13,
      "outputs": []
    },
    {
      "cell_type": "code",
      "source": [
        "# fetch responses for Fox News, build dataframe\n",
        "CH_ID = 'UCXIJgqnII2ZOINSWNOGFThA'\n",
        "FxRes = getUploadResponses(20)\n",
        "df2 = get_videos(FxRes,df2)"
      ],
      "metadata": {
        "id": "Za66ixKQ0bJZ"
      },
      "execution_count": 14,
      "outputs": []
    },
    {
      "cell_type": "code",
      "source": [
        "# concat dataframes\n",
        "df = pd.concat([df1,df2], ignore_index=True)"
      ],
      "metadata": {
        "id": "mEUHYxoO78Bw"
      },
      "execution_count": 29,
      "outputs": []
    },
    {
      "cell_type": "markdown",
      "source": [
        "## Clean Data"
      ],
      "metadata": {
        "id": "vXri5C7y9IdD"
      }
    },
    {
      "cell_type": "code",
      "source": [
        "df"
      ],
      "metadata": {
        "colab": {
          "base_uri": "https://localhost:8080/",
          "height": 424
        },
        "id": "ekndRtu49apm",
        "outputId": "cb6491de-d0ee-42af-afa5-d89da177e5b6"
      },
      "execution_count": 32,
      "outputs": [
        {
          "output_type": "execute_result",
          "data": {
            "text/html": [
              "\n",
              "  <div id=\"df-ecb74118-71a9-40c5-8091-8ca79ac248af\">\n",
              "    <div class=\"colab-df-container\">\n",
              "      <div>\n",
              "<style scoped>\n",
              "    .dataframe tbody tr th:only-of-type {\n",
              "        vertical-align: middle;\n",
              "    }\n",
              "\n",
              "    .dataframe tbody tr th {\n",
              "        vertical-align: top;\n",
              "    }\n",
              "\n",
              "    .dataframe thead th {\n",
              "        text-align: right;\n",
              "    }\n",
              "</style>\n",
              "<table border=\"1\" class=\"dataframe\">\n",
              "  <thead>\n",
              "    <tr style=\"text-align: right;\">\n",
              "      <th></th>\n",
              "      <th>vid_ID</th>\n",
              "      <th>channel_title</th>\n",
              "      <th>description</th>\n",
              "      <th>time_published</th>\n",
              "      <th>title</th>\n",
              "      <th>view_count</th>\n",
              "      <th>like_count</th>\n",
              "      <th>comment_count</th>\n",
              "    </tr>\n",
              "  </thead>\n",
              "  <tbody>\n",
              "    <tr>\n",
              "      <th>0</th>\n",
              "      <td>enkiA-RmAK0</td>\n",
              "      <td>CNN</td>\n",
              "      <td>Members of the House Select Committee investig...</td>\n",
              "      <td>2021-12-17</td>\n",
              "      <td>Jan 6 investigators believe Nov. 4 text pushin...</td>\n",
              "      <td>73020</td>\n",
              "      <td>2007</td>\n",
              "      <td>1351</td>\n",
              "    </tr>\n",
              "    <tr>\n",
              "      <th>1</th>\n",
              "      <td>33X9-EEbJYU</td>\n",
              "      <td>CNN</td>\n",
              "      <td>Former police officer Kim Potter broke down on...</td>\n",
              "      <td>2021-12-17</td>\n",
              "      <td>Kim Potter breaks down on the stand during tes...</td>\n",
              "      <td>69997</td>\n",
              "      <td>676</td>\n",
              "      <td>2068</td>\n",
              "    </tr>\n",
              "    <tr>\n",
              "      <th>2</th>\n",
              "      <td>IeSo_o1O5J8</td>\n",
              "      <td>CNN</td>\n",
              "      <td>A House oversight committee report reveals tha...</td>\n",
              "      <td>2021-12-17</td>\n",
              "      <td>New damning report about Trump’s response to C...</td>\n",
              "      <td>350706</td>\n",
              "      <td>9515</td>\n",
              "      <td>6029</td>\n",
              "    </tr>\n",
              "    <tr>\n",
              "      <th>3</th>\n",
              "      <td>ESWScbGOB4I</td>\n",
              "      <td>CNN</td>\n",
              "      <td>Dr. Sanjay Gupta follows several families who ...</td>\n",
              "      <td>2021-12-17</td>\n",
              "      <td>‘Miracle’: See impact marijuana had on autisti...</td>\n",
              "      <td>76971</td>\n",
              "      <td>2962</td>\n",
              "      <td>1230</td>\n",
              "    </tr>\n",
              "    <tr>\n",
              "      <th>4</th>\n",
              "      <td>1aP7FE0ws0s</td>\n",
              "      <td>CNN</td>\n",
              "      <td>A judge in Delaware has found that Fox News' c...</td>\n",
              "      <td>2021-12-17</td>\n",
              "      <td>Dominion Voting wins key decision in lawsuit a...</td>\n",
              "      <td>285136</td>\n",
              "      <td>8202</td>\n",
              "      <td>3634</td>\n",
              "    </tr>\n",
              "    <tr>\n",
              "      <th>...</th>\n",
              "      <td>...</td>\n",
              "      <td>...</td>\n",
              "      <td>...</td>\n",
              "      <td>...</td>\n",
              "      <td>...</td>\n",
              "      <td>...</td>\n",
              "      <td>...</td>\n",
              "      <td>...</td>\n",
              "    </tr>\n",
              "    <tr>\n",
              "      <th>1995</th>\n",
              "      <td>D_dPUcQUlYU</td>\n",
              "      <td>Fox News</td>\n",
              "      <td>Nassau County district attorney-elect Anne Don...</td>\n",
              "      <td>2021-11-07</td>\n",
              "      <td>Republicans win big on Long Island</td>\n",
              "      <td>322232</td>\n",
              "      <td>13007</td>\n",
              "      <td>1706</td>\n",
              "    </tr>\n",
              "    <tr>\n",
              "      <th>1996</th>\n",
              "      <td>CEiX9LtkOnY</td>\n",
              "      <td>Fox News</td>\n",
              "      <td>Former Speaker of the House Newt Gingrich deta...</td>\n",
              "      <td>2021-11-07</td>\n",
              "      <td>Newt Gingrich explains why Democrats aren't th...</td>\n",
              "      <td>119722</td>\n",
              "      <td>4775</td>\n",
              "      <td>993</td>\n",
              "    </tr>\n",
              "    <tr>\n",
              "      <th>1997</th>\n",
              "      <td>yR1P-Dd-PCs</td>\n",
              "      <td>Fox News</td>\n",
              "      <td>‘The Big Saturday Show’ panelists try to make ...</td>\n",
              "      <td>2021-11-07</td>\n",
              "      <td>The Travis Scott concert crowd surge tragedy, ...</td>\n",
              "      <td>322328</td>\n",
              "      <td>4281</td>\n",
              "      <td>3032</td>\n",
              "    </tr>\n",
              "    <tr>\n",
              "      <th>1998</th>\n",
              "      <td>Spp_psCj3l4</td>\n",
              "      <td>Fox News</td>\n",
              "      <td>'The Big Saturday Show' panelists weigh in on ...</td>\n",
              "      <td>2021-11-07</td>\n",
              "      <td>'Big Saturday Show' praises Bill Maher, parent...</td>\n",
              "      <td>276497</td>\n",
              "      <td>9508</td>\n",
              "      <td>2382</td>\n",
              "    </tr>\n",
              "    <tr>\n",
              "      <th>1999</th>\n",
              "      <td>6PEyFDcdDYc</td>\n",
              "      <td>Fox News</td>\n",
              "      <td>'Justice with Judge Jeanine' host says a 'new ...</td>\n",
              "      <td>2021-11-07</td>\n",
              "      <td>Judge Jeanine: America is waking up</td>\n",
              "      <td>582871</td>\n",
              "      <td>38717</td>\n",
              "      <td>5432</td>\n",
              "    </tr>\n",
              "  </tbody>\n",
              "</table>\n",
              "<p>2000 rows × 8 columns</p>\n",
              "</div>\n",
              "      <button class=\"colab-df-convert\" onclick=\"convertToInteractive('df-ecb74118-71a9-40c5-8091-8ca79ac248af')\"\n",
              "              title=\"Convert this dataframe to an interactive table.\"\n",
              "              style=\"display:none;\">\n",
              "        \n",
              "  <svg xmlns=\"http://www.w3.org/2000/svg\" height=\"24px\"viewBox=\"0 0 24 24\"\n",
              "       width=\"24px\">\n",
              "    <path d=\"M0 0h24v24H0V0z\" fill=\"none\"/>\n",
              "    <path d=\"M18.56 5.44l.94 2.06.94-2.06 2.06-.94-2.06-.94-.94-2.06-.94 2.06-2.06.94zm-11 1L8.5 8.5l.94-2.06 2.06-.94-2.06-.94L8.5 2.5l-.94 2.06-2.06.94zm10 10l.94 2.06.94-2.06 2.06-.94-2.06-.94-.94-2.06-.94 2.06-2.06.94z\"/><path d=\"M17.41 7.96l-1.37-1.37c-.4-.4-.92-.59-1.43-.59-.52 0-1.04.2-1.43.59L10.3 9.45l-7.72 7.72c-.78.78-.78 2.05 0 2.83L4 21.41c.39.39.9.59 1.41.59.51 0 1.02-.2 1.41-.59l7.78-7.78 2.81-2.81c.8-.78.8-2.07 0-2.86zM5.41 20L4 18.59l7.72-7.72 1.47 1.35L5.41 20z\"/>\n",
              "  </svg>\n",
              "      </button>\n",
              "      \n",
              "  <style>\n",
              "    .colab-df-container {\n",
              "      display:flex;\n",
              "      flex-wrap:wrap;\n",
              "      gap: 12px;\n",
              "    }\n",
              "\n",
              "    .colab-df-convert {\n",
              "      background-color: #E8F0FE;\n",
              "      border: none;\n",
              "      border-radius: 50%;\n",
              "      cursor: pointer;\n",
              "      display: none;\n",
              "      fill: #1967D2;\n",
              "      height: 32px;\n",
              "      padding: 0 0 0 0;\n",
              "      width: 32px;\n",
              "    }\n",
              "\n",
              "    .colab-df-convert:hover {\n",
              "      background-color: #E2EBFA;\n",
              "      box-shadow: 0px 1px 2px rgba(60, 64, 67, 0.3), 0px 1px 3px 1px rgba(60, 64, 67, 0.15);\n",
              "      fill: #174EA6;\n",
              "    }\n",
              "\n",
              "    [theme=dark] .colab-df-convert {\n",
              "      background-color: #3B4455;\n",
              "      fill: #D2E3FC;\n",
              "    }\n",
              "\n",
              "    [theme=dark] .colab-df-convert:hover {\n",
              "      background-color: #434B5C;\n",
              "      box-shadow: 0px 1px 3px 1px rgba(0, 0, 0, 0.15);\n",
              "      filter: drop-shadow(0px 1px 2px rgba(0, 0, 0, 0.3));\n",
              "      fill: #FFFFFF;\n",
              "    }\n",
              "  </style>\n",
              "\n",
              "      <script>\n",
              "        const buttonEl =\n",
              "          document.querySelector('#df-ecb74118-71a9-40c5-8091-8ca79ac248af button.colab-df-convert');\n",
              "        buttonEl.style.display =\n",
              "          google.colab.kernel.accessAllowed ? 'block' : 'none';\n",
              "\n",
              "        async function convertToInteractive(key) {\n",
              "          const element = document.querySelector('#df-ecb74118-71a9-40c5-8091-8ca79ac248af');\n",
              "          const dataTable =\n",
              "            await google.colab.kernel.invokeFunction('convertToInteractive',\n",
              "                                                     [key], {});\n",
              "          if (!dataTable) return;\n",
              "\n",
              "          const docLinkHtml = 'Like what you see? Visit the ' +\n",
              "            '<a target=\"_blank\" href=https://colab.research.google.com/notebooks/data_table.ipynb>data table notebook</a>'\n",
              "            + ' to learn more about interactive tables.';\n",
              "          element.innerHTML = '';\n",
              "          dataTable['output_type'] = 'display_data';\n",
              "          await google.colab.output.renderOutput(dataTable, element);\n",
              "          const docLink = document.createElement('div');\n",
              "          docLink.innerHTML = docLinkHtml;\n",
              "          element.appendChild(docLink);\n",
              "        }\n",
              "      </script>\n",
              "    </div>\n",
              "  </div>\n",
              "  "
            ],
            "text/plain": [
              "           vid_ID channel_title  ... like_count comment_count\n",
              "0     enkiA-RmAK0           CNN  ...       2007          1351\n",
              "1     33X9-EEbJYU           CNN  ...        676          2068\n",
              "2     IeSo_o1O5J8           CNN  ...       9515          6029\n",
              "3     ESWScbGOB4I           CNN  ...       2962          1230\n",
              "4     1aP7FE0ws0s           CNN  ...       8202          3634\n",
              "...           ...           ...  ...        ...           ...\n",
              "1995  D_dPUcQUlYU      Fox News  ...      13007          1706\n",
              "1996  CEiX9LtkOnY      Fox News  ...       4775           993\n",
              "1997  yR1P-Dd-PCs      Fox News  ...       4281          3032\n",
              "1998  Spp_psCj3l4      Fox News  ...       9508          2382\n",
              "1999  6PEyFDcdDYc      Fox News  ...      38717          5432\n",
              "\n",
              "[2000 rows x 8 columns]"
            ]
          },
          "metadata": {},
          "execution_count": 32
        }
      ]
    },
    {
      "cell_type": "code",
      "source": [
        "# datatypes of columns\n",
        "df.info()"
      ],
      "metadata": {
        "colab": {
          "base_uri": "https://localhost:8080/"
        },
        "id": "d5VNpnN68H3p",
        "outputId": "02512e67-d288-421b-d0b9-83825ced79ff"
      },
      "execution_count": 31,
      "outputs": [
        {
          "output_type": "stream",
          "name": "stdout",
          "text": [
            "<class 'pandas.core.frame.DataFrame'>\n",
            "RangeIndex: 2000 entries, 0 to 1999\n",
            "Data columns (total 8 columns):\n",
            " #   Column          Non-Null Count  Dtype \n",
            "---  ------          --------------  ----- \n",
            " 0   vid_ID          2000 non-null   object\n",
            " 1   channel_title   2000 non-null   object\n",
            " 2   description     2000 non-null   object\n",
            " 3   time_published  2000 non-null   object\n",
            " 4   title           2000 non-null   object\n",
            " 5   view_count      2000 non-null   object\n",
            " 6   like_count      2000 non-null   object\n",
            " 7   comment_count   2000 non-null   object\n",
            "dtypes: object(8)\n",
            "memory usage: 125.1+ KB\n"
          ]
        }
      ]
    },
    {
      "cell_type": "markdown",
      "source": [
        "**Cleaning by:**\n",
        "1. Change time to correct data type\n",
        "2. Make count columns into integers"
      ],
      "metadata": {
        "id": "zydzeDWe9VDt"
      }
    },
    {
      "cell_type": "code",
      "source": [
        "# time_published to correct datetime format\n",
        "df['time_published'] = pd.to_datetime(df['time_published'], format = '%Y/%m/%d')"
      ],
      "metadata": {
        "id": "o2GwWsos9R9e"
      },
      "execution_count": 33,
      "outputs": []
    },
    {
      "cell_type": "code",
      "source": [
        "df[['view_count', 'like_count', 'comment_count']] = df[['view_count', 'like_count', 'comment_count']].astype(float)"
      ],
      "metadata": {
        "id": "wWTz6Mxe91lz"
      },
      "execution_count": 36,
      "outputs": []
    },
    {
      "cell_type": "code",
      "source": [
        "df.info()"
      ],
      "metadata": {
        "colab": {
          "base_uri": "https://localhost:8080/"
        },
        "id": "-kTuqoGU-RG9",
        "outputId": "369b9c88-0518-4822-c698-bf19702734b9"
      },
      "execution_count": 37,
      "outputs": [
        {
          "output_type": "stream",
          "name": "stdout",
          "text": [
            "<class 'pandas.core.frame.DataFrame'>\n",
            "RangeIndex: 2000 entries, 0 to 1999\n",
            "Data columns (total 8 columns):\n",
            " #   Column          Non-Null Count  Dtype         \n",
            "---  ------          --------------  -----         \n",
            " 0   vid_ID          2000 non-null   object        \n",
            " 1   channel_title   2000 non-null   object        \n",
            " 2   description     2000 non-null   object        \n",
            " 3   time_published  2000 non-null   datetime64[ns]\n",
            " 4   title           2000 non-null   object        \n",
            " 5   view_count      2000 non-null   float64       \n",
            " 6   like_count      2000 non-null   float64       \n",
            " 7   comment_count   2000 non-null   float64       \n",
            "dtypes: datetime64[ns](1), float64(3), object(4)\n",
            "memory usage: 125.1+ KB\n"
          ]
        }
      ]
    },
    {
      "cell_type": "code",
      "source": [
        "# Save csv to drive\n",
        "\n",
        "drive.mount('/drive')\n",
        "df.to_csv('/drive/My Drive/YoutubeAPI/YoutubeVids.csv')"
      ],
      "metadata": {
        "colab": {
          "base_uri": "https://localhost:8080/"
        },
        "id": "qPOrKpJs-Y3T",
        "outputId": "b022aee6-6923-44ee-b70f-e75be7fd9c2e"
      },
      "execution_count": 40,
      "outputs": [
        {
          "output_type": "stream",
          "name": "stdout",
          "text": [
            "Mounted at /drive\n"
          ]
        }
      ]
    }
  ]
}